{
  "nbformat": 4,
  "nbformat_minor": 0,
  "metadata": {
    "colab": {
      "name": "Vanilla_AE.ipynb",
      "provenance": [],
      "authorship_tag": "ABX9TyNDcgakj1jST4h8dxMQD7nu",
      "include_colab_link": true
    },
    "kernelspec": {
      "name": "python3",
      "display_name": "Python 3"
    },
    "language_info": {
      "name": "python"
    },
    "accelerator": "GPU"
  },
  "cells": [
    {
      "cell_type": "markdown",
      "metadata": {
        "id": "view-in-github",
        "colab_type": "text"
      },
      "source": [
        "<a href=\"https://colab.research.google.com/github/SIDDXSingh/AutoEncoders/blob/main/Vanilla_AE.ipynb\" target=\"_parent\"><img src=\"https://colab.research.google.com/assets/colab-badge.svg\" alt=\"Open In Colab\"/></a>"
      ]
    },
    {
      "cell_type": "code",
      "metadata": {
        "id": "l6JSRlkyBzHd"
      },
      "source": [
        "import matplotlib.pyplot as plt  # for plotting images\n",
        "import numpy as np\n",
        "import torch\n",
        "import torch.nn as nn\n",
        "import torch.optim as optim\n",
        "import time\n",
        "import os\n",
        "import torchvision\n",
        "from torchvision import transforms"
      ],
      "execution_count": null,
      "outputs": []
    },
    {
      "cell_type": "code",
      "metadata": {
        "colab": {
          "base_uri": "https://localhost:8080/",
          "height": 35
        },
        "id": "ByFAlgro8lrf",
        "outputId": "fc08f504-d7fe-4c1d-b2b3-c6d545033541"
      },
      "source": [
        "torch.cuda.device(0)\n",
        "torch.cuda.device_count()\n",
        "torch.cuda.get_device_name(0)"
      ],
      "execution_count": null,
      "outputs": [
        {
          "output_type": "execute_result",
          "data": {
            "application/vnd.google.colaboratory.intrinsic+json": {
              "type": "string"
            },
            "text/plain": [
              "'Tesla T4'"
            ]
          },
          "metadata": {
            "tags": []
          },
          "execution_count": 2
        }
      ]
    },
    {
      "cell_type": "code",
      "metadata": {
        "id": "UWp-akrsEZRo"
      },
      "source": [
        "device = torch.device(\"cuda\" if torch.cuda.is_available() else 'cpu')"
      ],
      "execution_count": null,
      "outputs": []
    },
    {
      "cell_type": "code",
      "metadata": {
        "id": "KdSqGbgqVlTc",
        "colab": {
          "base_uri": "https://localhost:8080/"
        },
        "outputId": "b2844d19-1cc3-46c5-bbdf-5c013ce3ed73"
      },
      "source": [
        "!wget www.di.ens.fr/~lelarge/MNIST.tar.gz\n",
        "!tar -zxvf MNIST.tar.gz\n",
        "\n",
        "transform=transforms.Compose([transforms.ToTensor()])\n",
        "\n",
        "from torchvision.datasets import MNIST\n",
        "\n",
        "train_data = MNIST(root = './', train=True, download=True, transform=transform)\n",
        "val_data = MNIST(root = './', train=False, download=True, transform=transform)"
      ],
      "execution_count": null,
      "outputs": [
        {
          "output_type": "stream",
          "text": [
            "--2021-07-30 19:15:52--  http://www.di.ens.fr/~lelarge/MNIST.tar.gz\n",
            "Resolving www.di.ens.fr (www.di.ens.fr)... 129.199.99.14\n",
            "Connecting to www.di.ens.fr (www.di.ens.fr)|129.199.99.14|:80... connected.\n",
            "HTTP request sent, awaiting response... 302 Found\n",
            "Location: https://www.di.ens.fr/~lelarge/MNIST.tar.gz [following]\n",
            "--2021-07-30 19:15:53--  https://www.di.ens.fr/~lelarge/MNIST.tar.gz\n",
            "Connecting to www.di.ens.fr (www.di.ens.fr)|129.199.99.14|:443... connected.\n",
            "HTTP request sent, awaiting response... 200 OK\n",
            "Length: unspecified [application/x-gzip]\n",
            "Saving to: ‘MNIST.tar.gz’\n",
            "\n",
            "MNIST.tar.gz            [            <=>     ]  33.20M  11.4MB/s    in 2.9s    \n",
            "\n",
            "2021-07-30 19:15:56 (11.4 MB/s) - ‘MNIST.tar.gz’ saved [34813078]\n",
            "\n",
            "MNIST/\n",
            "MNIST/raw/\n",
            "MNIST/raw/train-labels-idx1-ubyte\n",
            "MNIST/raw/t10k-labels-idx1-ubyte.gz\n",
            "MNIST/raw/t10k-labels-idx1-ubyte\n",
            "MNIST/raw/t10k-images-idx3-ubyte.gz\n",
            "MNIST/raw/train-images-idx3-ubyte\n",
            "MNIST/raw/train-labels-idx1-ubyte.gz\n",
            "MNIST/raw/t10k-images-idx3-ubyte\n",
            "MNIST/raw/train-images-idx3-ubyte.gz\n",
            "MNIST/processed/\n",
            "MNIST/processed/training.pt\n",
            "MNIST/processed/test.pt\n"
          ],
          "name": "stdout"
        }
      ]
    },
    {
      "cell_type": "code",
      "metadata": {
        "id": "vwk0PrxLUdJY"
      },
      "source": [
        "train_loader = torch.utils.data.DataLoader(train_data, batch_size=128, shuffle=True)\n",
        "test_loader = torch.utils.data.DataLoader(val_data, batch_size=60, shuffle=False)"
      ],
      "execution_count": null,
      "outputs": []
    },
    {
      "cell_type": "code",
      "metadata": {
        "id": "MVn6Ul04UdL5"
      },
      "source": [
        "dataiter=iter(test_loader)\n",
        "images,labels=dataiter.next()"
      ],
      "execution_count": null,
      "outputs": []
    },
    {
      "cell_type": "code",
      "metadata": {
        "id": "_MI14aHeUdOU"
      },
      "source": [
        "print(images[0])"
      ],
      "execution_count": null,
      "outputs": []
    },
    {
      "cell_type": "code",
      "metadata": {
        "id": "X-ing6eV_Vx0"
      },
      "source": [
        "class AE(nn.Module):\n",
        "  def __init__(self):\n",
        "        super().__init__()\n",
        "        self.encoder=nn.Sequential(\n",
        "            nn.Conv2d(1,8,3,stride=1),\n",
        "            nn.ReLU(),\n",
        "            nn.Conv2d(8,16,5,stride=1),\n",
        "            nn.ReLU(),\n",
        "            nn.Conv2d(16,32,5,stride=2),\n",
        "            nn.ReLU(),\n",
        "            nn.MaxPool2d(2, 2),\n",
        "        )  # The encoder network\n",
        "        self.decoder=nn.Sequential(\n",
        "            nn.ConvTranspose2d(32,16,3, stride=2),\n",
        "            nn.ReLU(),\n",
        "            nn.ConvTranspose2d(16,8,5, stride=2),\n",
        "            nn.ReLU(),\n",
        "            nn.ConvTranspose2d(8,1,8, stride=1),\n",
        "            nn.Sigmoid(),\n",
        "        )  # The decoder network\n",
        "\n",
        "  def forward(self, features):\n",
        "      x = self.encoder(features.float())\n",
        "      return self.decoder(x)\n",
        "\n",
        "\n",
        "  def encode(self,inp):\n",
        "    return self.encoder(inp)\n",
        "\n",
        "  def decode(self, latent):\n",
        "    return self.decode(latent)\n",
        "\n",
        "\n",
        "  "
      ],
      "execution_count": null,
      "outputs": []
    },
    {
      "cell_type": "code",
      "metadata": {
        "id": "eCuODHnY-whl"
      },
      "source": [
        "model=AE()"
      ],
      "execution_count": null,
      "outputs": []
    },
    {
      "cell_type": "code",
      "metadata": {
        "id": "OMW18wWU8Hko"
      },
      "source": [
        "criterion = nn.functional.binary_cross_entropy\n",
        "optimizer = optim.Adam(model.parameters(), lr=0.001)\n",
        "step_lr_scheduler = optim.lr_scheduler.StepLR(optimizer, step_size = 2, gamma= 0.1)\n",
        "model=model.to(device)"
      ],
      "execution_count": null,
      "outputs": []
    },
    {
      "cell_type": "code",
      "metadata": {
        "id": "hgUxTMj9X7TY"
      },
      "source": [
        "def train(model,trainloader):\n",
        "  loss_list=[]\n",
        "  for epoch in range (0,10):\n",
        "    running_loss=0\n",
        "    for i,data in enumerate (trainloader):\n",
        "      X,Y=data\n",
        "      X=X.to(device)\n",
        "      Y=Y.to(device)\n",
        "      optimizer.zero_grad()\n",
        "      output=model.forward(X)\n",
        "      output=output.to(device)\n",
        "      loss=criterion(output,X)\n",
        "      loss.backward()\n",
        "      optimizer.step()\n",
        "      running_loss += loss.item()\n",
        "\n",
        "      if i== 1:    # print every 2000 mini-batches\n",
        "        print('[%d, %5d] loss: %f' %\n",
        "            (epoch + 1, 10, running_loss /128))\n",
        "        loss_list.append(running_loss/128)\n",
        "        running_loss = 0.0\n",
        "  return loss_list"
      ],
      "execution_count": null,
      "outputs": []
    },
    {
      "cell_type": "code",
      "metadata": {
        "id": "MJHOpMaL-vEq",
        "colab": {
          "base_uri": "https://localhost:8080/"
        },
        "outputId": "9a5f7686-3851-43f3-c734-79f28abc1404"
      },
      "source": [
        "loss_list=train(model,trainloader=train_loader)"
      ],
      "execution_count": null,
      "outputs": [
        {
          "output_type": "stream",
          "text": [
            "[1,    10] loss: 0.011459\n",
            "[2,    10] loss: 0.001523\n",
            "[3,    10] loss: 0.001312\n",
            "[4,    10] loss: 0.001232\n",
            "[5,    10] loss: 0.001190\n",
            "[6,    10] loss: 0.001179\n",
            "[7,    10] loss: 0.001175\n",
            "[8,    10] loss: 0.001159\n",
            "[9,    10] loss: 0.001156\n",
            "[10,    10] loss: 0.001125\n"
          ],
          "name": "stdout"
        }
      ]
    },
    {
      "cell_type": "code",
      "metadata": {
        "colab": {
          "base_uri": "https://localhost:8080/",
          "height": 282
        },
        "id": "bSLrprVi4qhl",
        "outputId": "c9e21d35-4fdd-46a6-f577-aece18dc957b"
      },
      "source": [
        "plt.plot(loss_list)"
      ],
      "execution_count": null,
      "outputs": [
        {
          "output_type": "execute_result",
          "data": {
            "text/plain": [
              "[<matplotlib.lines.Line2D at 0x7f27c4f73450>]"
            ]
          },
          "metadata": {
            "tags": []
          },
          "execution_count": 43
        },
        {
          "output_type": "display_data",
          "data": {
            "image/png": "[encoded data removed]",
            "text/plain": [
              "<Figure size 432x288 with 1 Axes>"
            ]
          },
          "metadata": {
            "tags": [],
            "needs_background": "light"
          }
        }
      ]
    },
    {
      "cell_type": "code",
      "metadata": {
        "colab": {
          "base_uri": "https://localhost:8080/",
          "height": 513
        },
        "id": "Cs2m2yEbyaAn",
        "outputId": "6158d311-228e-412e-d249-633370bf6b59"
      },
      "source": [
        "with torch.no_grad():\n",
        "  x=model.forward(images.to(device))\n",
        "  x=x.cpu()\n",
        "  plt.imshow(images[1].permute(1,2,0).squeeze())\n",
        "  plt.show()\n",
        "  plt.imshow(x[1].permute(1,2,0).squeeze())\n",
        "  plt.show()\n",
        "\n",
        "\n"
      ],
      "execution_count": null,
      "outputs": [
        {
          "output_type": "display_data",
          "data": {
            "image/png": "[encoded data removed]",
            "text/plain": [
              "<Figure size 432x288 with 1 Axes>"
            ]
          },
          "metadata": {
            "tags": [],
            "needs_background": "light"
          }
        },
        {
          "output_type": "display_data",
          "data": {
            "image/png": "[encoded data removed]",
            "text/plain": [
              "<Figure size 432x288 with 1 Axes>"
            ]
          },
          "metadata": {
            "tags": [],
            "needs_background": "light"
          }
        }
      ]
    },
    {
      "cell_type": "code",
      "metadata": {
        "colab": {
          "base_uri": "https://localhost:8080/"
        },
        "id": "XRMny5rl7HjQ",
        "outputId": "b4c2bdd3-f93e-4af3-8297-05be31536833"
      },
      "source": [
        "test_img=0\n",
        "output=0\n",
        "with torch.no_grad():\n",
        "  test_loss=0.0\n",
        "  for i,data in enumerate (test_loader):\n",
        "      X,Y=data\n",
        "      X=X.to(device)\n",
        "      test_img=X\n",
        "      Y=Y.to(device)\n",
        "      output=model.forward(X)\n",
        "      output=output.to(device)\n",
        "      loss=criterion(output,X)\n",
        "      test_loss += loss.item()\n",
        "  print(test_loss/60)"
      ],
      "execution_count": null,
      "outputs": [
        {
          "output_type": "stream",
          "text": [
            "0.19939643448839586\n"
          ],
          "name": "stdout"
        }
      ]
    },
    {
      "cell_type": "code",
      "metadata": {
        "colab": {
          "base_uri": "https://localhost:8080/",
          "height": 248
        },
        "id": "gDQvKh7K6S6x",
        "outputId": "c335dc75-15c5-4f0e-e5eb-6390b7155854"
      },
      "source": [
        "with torch.no_grad():\n",
        "        number = 10\n",
        "        plt.figure(figsize=(20, 4))\n",
        "    \n",
        "        for index in range(number):\n",
        "            ax = plt.subplot(2, number, index + 1)\n",
        "            plt.imshow(test_img[index].cpu().numpy().reshape(28, 28))\n",
        "         \n",
        "            ax.get_xaxis().set_visible(False)\n",
        "            ax.get_yaxis().set_visible(False)  \n",
        "            ax = plt.subplot(2, number, index + 1 + number)\n",
        "            plt.imshow(output[index].cpu().numpy().reshape(28, 28))\n",
        "            ax.get_xaxis().set_visible(False)\n",
        "            ax.get_yaxis().set_visible(False)\n",
        "        plt.show()"
      ],
      "execution_count": null,
      "outputs": [
        {
          "output_type": "display_data",
          "data": {
            "image/png": "[encoded data removed]",
            "text/plain": [
              "<Figure size 1440x288 with 20 Axes>"
            ]
          },
          "metadata": {
            "tags": [],
            "needs_background": "light"
          }
        }
      ]
    }
  ]
}