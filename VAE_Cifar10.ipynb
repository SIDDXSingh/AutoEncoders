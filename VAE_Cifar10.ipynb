{
  "nbformat": 4,
  "nbformat_minor": 5,
  "metadata": {
    "kernelspec": {
      "display_name": "Python 3",
      "language": "python",
      "name": "python3"
    },
    "language_info": {
      "codemirror_mode": {
        "name": "ipython",
        "version": 3
      },
      "file_extension": ".py",
      "mimetype": "text/x-python",
      "name": "python",
      "nbconvert_exporter": "python",
      "pygments_lexer": "ipython3",
      "version": "3.7.6"
    },
    "colab": {
      "name": "VAE_Cifar10.ipynb",
      "provenance": [],
      "collapsed_sections": [],
      "include_colab_link": true
    },
    "accelerator": "TPU",
    "widgets": {
      "application/vnd.jupyter.widget-state+json": {
        "06b65ec84cec433ca4eae2b28c70c859": {
          "model_module": "@jupyter-widgets/controls",
          "model_name": "IntSliderModel",
          "state": {
            "_view_name": "IntSliderView",
            "style": "IPY_MODEL_0fabfc7bf85f4115802fb044fb0775de",
            "_dom_classes": [],
            "description": "",
            "step": 1,
            "_model_name": "IntSliderModel",
            "orientation": "horizontal",
            "max": 100,
            "_view_module": "@jupyter-widgets/controls",
            "_model_module_version": "1.5.0",
            "value": 0,
            "_view_count": null,
            "disabled": false,
            "_view_module_version": "1.5.0",
            "min": 0,
            "continuous_update": true,
            "readout_format": "d",
            "description_tooltip": null,
            "readout": true,
            "_model_module": "@jupyter-widgets/controls",
            "layout": "IPY_MODEL_1b0c633a609b427094cfc50e50bd9cf7"
          }
        },
        "0fabfc7bf85f4115802fb044fb0775de": {
          "model_module": "@jupyter-widgets/controls",
          "model_name": "SliderStyleModel",
          "state": {
            "_view_name": "StyleView",
            "handle_color": null,
            "_model_name": "SliderStyleModel",
            "description_width": "",
            "_view_module": "@jupyter-widgets/base",
            "_model_module_version": "1.5.0",
            "_view_count": null,
            "_view_module_version": "1.2.0",
            "_model_module": "@jupyter-widgets/controls"
          }
        },
        "1b0c633a609b427094cfc50e50bd9cf7": {
          "model_module": "@jupyter-widgets/base",
          "model_name": "LayoutModel",
          "state": {
            "_view_name": "LayoutView",
            "grid_template_rows": null,
            "right": null,
            "justify_content": null,
            "_view_module": "@jupyter-widgets/base",
            "overflow": null,
            "_model_module_version": "1.2.0",
            "_view_count": null,
            "flex_flow": null,
            "width": null,
            "min_width": null,
            "border": null,
            "align_items": null,
            "bottom": null,
            "_model_module": "@jupyter-widgets/base",
            "top": null,
            "grid_column": null,
            "overflow_y": null,
            "overflow_x": null,
            "grid_auto_flow": null,
            "grid_area": null,
            "grid_template_columns": null,
            "flex": null,
            "_model_name": "LayoutModel",
            "justify_items": null,
            "grid_row": null,
            "max_height": null,
            "align_content": null,
            "visibility": null,
            "align_self": null,
            "height": null,
            "min_height": null,
            "padding": null,
            "grid_auto_rows": null,
            "grid_gap": null,
            "max_width": null,
            "order": null,
            "_view_module_version": "1.2.0",
            "grid_template_areas": null,
            "object_position": null,
            "object_fit": null,
            "grid_auto_columns": null,
            "margin": null,
            "display": null,
            "left": null
          }
        },
        "0bab95f3a04d4ad99bb3deaafb7fb24d": {
          "model_module": "@jupyter-widgets/controls",
          "model_name": "HBoxModel",
          "state": {
            "_view_name": "HBoxView",
            "_dom_classes": [],
            "_model_name": "HBoxModel",
            "_view_module": "@jupyter-widgets/controls",
            "_model_module_version": "1.5.0",
            "_view_count": null,
            "_view_module_version": "1.5.0",
            "box_style": "",
            "layout": "IPY_MODEL_c040e86ccbcd41438eb9d65a72ba2755",
            "_model_module": "@jupyter-widgets/controls",
            "children": [
              "IPY_MODEL_2f6e219a02764dbfa76acbe670e8f06e",
              "IPY_MODEL_c802909faca840ad947672bf3daa2cb3"
            ]
          }
        },
        "c040e86ccbcd41438eb9d65a72ba2755": {
          "model_module": "@jupyter-widgets/base",
          "model_name": "LayoutModel",
          "state": {
            "_view_name": "LayoutView",
            "grid_template_rows": null,
            "right": null,
            "justify_content": null,
            "_view_module": "@jupyter-widgets/base",
            "overflow": null,
            "_model_module_version": "1.2.0",
            "_view_count": null,
            "flex_flow": null,
            "width": null,
            "min_width": null,
            "border": null,
            "align_items": null,
            "bottom": null,
            "_model_module": "@jupyter-widgets/base",
            "top": null,
            "grid_column": null,
            "overflow_y": null,
            "overflow_x": null,
            "grid_auto_flow": null,
            "grid_area": null,
            "grid_template_columns": null,
            "flex": null,
            "_model_name": "LayoutModel",
            "justify_items": null,
            "grid_row": null,
            "max_height": null,
            "align_content": null,
            "visibility": null,
            "align_self": null,
            "height": null,
            "min_height": null,
            "padding": null,
            "grid_auto_rows": null,
            "grid_gap": null,
            "max_width": null,
            "order": null,
            "_view_module_version": "1.2.0",
            "grid_template_areas": null,
            "object_position": null,
            "object_fit": null,
            "grid_auto_columns": null,
            "margin": null,
            "display": null,
            "left": null
          }
        },
        "2f6e219a02764dbfa76acbe670e8f06e": {
          "model_module": "@jupyter-widgets/controls",
          "model_name": "FloatProgressModel",
          "state": {
            "_view_name": "ProgressView",
            "style": "IPY_MODEL_571e16ffdc4743c09ffab7760116b21d",
            "_dom_classes": [],
            "description": "",
            "_model_name": "FloatProgressModel",
            "bar_style": "success",
            "max": 170498071,
            "_view_module": "@jupyter-widgets/controls",
            "_model_module_version": "1.5.0",
            "value": 170498071,
            "_view_count": null,
            "_view_module_version": "1.5.0",
            "orientation": "horizontal",
            "min": 0,
            "description_tooltip": null,
            "_model_module": "@jupyter-widgets/controls",
            "layout": "IPY_MODEL_e06b0c9909004dfaa42719c2efd069ec"
          }
        },
        "c802909faca840ad947672bf3daa2cb3": {
          "model_module": "@jupyter-widgets/controls",
          "model_name": "HTMLModel",
          "state": {
            "_view_name": "HTMLView",
            "style": "IPY_MODEL_74024a210c77413581faa81257f349ba",
            "_dom_classes": [],
            "description": "",
            "_model_name": "HTMLModel",
            "placeholder": "​",
            "_view_module": "@jupyter-widgets/controls",
            "_model_module_version": "1.5.0",
            "value": " 170499072/? [23:00&lt;00:00, 123477.42it/s]",
            "_view_count": null,
            "_view_module_version": "1.5.0",
            "description_tooltip": null,
            "_model_module": "@jupyter-widgets/controls",
            "layout": "IPY_MODEL_fae402e57f7746a59f2c55478cd448a4"
          }
        },
        "571e16ffdc4743c09ffab7760116b21d": {
          "model_module": "@jupyter-widgets/controls",
          "model_name": "ProgressStyleModel",
          "state": {
            "_view_name": "StyleView",
            "_model_name": "ProgressStyleModel",
            "description_width": "initial",
            "_view_module": "@jupyter-widgets/base",
            "_model_module_version": "1.5.0",
            "_view_count": null,
            "_view_module_version": "1.2.0",
            "bar_color": null,
            "_model_module": "@jupyter-widgets/controls"
          }
        },
        "e06b0c9909004dfaa42719c2efd069ec": {
          "model_module": "@jupyter-widgets/base",
          "model_name": "LayoutModel",
          "state": {
            "_view_name": "LayoutView",
            "grid_template_rows": null,
            "right": null,
            "justify_content": null,
            "_view_module": "@jupyter-widgets/base",
            "overflow": null,
            "_model_module_version": "1.2.0",
            "_view_count": null,
            "flex_flow": null,
            "width": null,
            "min_width": null,
            "border": null,
            "align_items": null,
            "bottom": null,
            "_model_module": "@jupyter-widgets/base",
            "top": null,
            "grid_column": null,
            "overflow_y": null,
            "overflow_x": null,
            "grid_auto_flow": null,
            "grid_area": null,
            "grid_template_columns": null,
            "flex": null,
            "_model_name": "LayoutModel",
            "justify_items": null,
            "grid_row": null,
            "max_height": null,
            "align_content": null,
            "visibility": null,
            "align_self": null,
            "height": null,
            "min_height": null,
            "padding": null,
            "grid_auto_rows": null,
            "grid_gap": null,
            "max_width": null,
            "order": null,
            "_view_module_version": "1.2.0",
            "grid_template_areas": null,
            "object_position": null,
            "object_fit": null,
            "grid_auto_columns": null,
            "margin": null,
            "display": null,
            "left": null
          }
        },
        "74024a210c77413581faa81257f349ba": {
          "model_module": "@jupyter-widgets/controls",
          "model_name": "DescriptionStyleModel",
          "state": {
            "_view_name": "StyleView",
            "_model_name": "DescriptionStyleModel",
            "description_width": "",
            "_view_module": "@jupyter-widgets/base",
            "_model_module_version": "1.5.0",
            "_view_count": null,
            "_view_module_version": "1.2.0",
            "_model_module": "@jupyter-widgets/controls"
          }
        },
        "fae402e57f7746a59f2c55478cd448a4": {
          "model_module": "@jupyter-widgets/base",
          "model_name": "LayoutModel",
          "state": {
            "_view_name": "LayoutView",
            "grid_template_rows": null,
            "right": null,
            "justify_content": null,
            "_view_module": "@jupyter-widgets/base",
            "overflow": null,
            "_model_module_version": "1.2.0",
            "_view_count": null,
            "flex_flow": null,
            "width": null,
            "min_width": null,
            "border": null,
            "align_items": null,
            "bottom": null,
            "_model_module": "@jupyter-widgets/base",
            "top": null,
            "grid_column": null,
            "overflow_y": null,
            "overflow_x": null,
            "grid_auto_flow": null,
            "grid_area": null,
            "grid_template_columns": null,
            "flex": null,
            "_model_name": "LayoutModel",
            "justify_items": null,
            "grid_row": null,
            "max_height": null,
            "align_content": null,
            "visibility": null,
            "align_self": null,
            "height": null,
            "min_height": null,
            "padding": null,
            "grid_auto_rows": null,
            "grid_gap": null,
            "max_width": null,
            "order": null,
            "_view_module_version": "1.2.0",
            "grid_template_areas": null,
            "object_position": null,
            "object_fit": null,
            "grid_auto_columns": null,
            "margin": null,
            "display": null,
            "left": null
          }
        }
      }
    }
  },
  "cells": [
    {
      "cell_type": "markdown",
      "metadata": {
        "id": "view-in-github",
        "colab_type": "text"
      },
      "source": [
        "<a href=\"https://colab.research.google.com/github/SIDDXSingh/AutoEncoders/blob/main/VAE_Cifar10.ipynb\" target=\"_parent\"><img src=\"https://colab.research.google.com/assets/colab-badge.svg\" alt=\"Open In Colab\"/></a>"
      ]
    },
    {
      "cell_type": "code",
      "metadata": {
        "id": "chubby-ebony"
      },
      "source": [
        "\n",
        "import matplotlib.pyplot as plt  # for plotting images\n",
        "import numpy as np\n",
        "import torch\n",
        "import torch.nn as nn\n",
        "import torch.optim as optim\n",
        "import time\n",
        "import os\n",
        "import torchvision\n",
        "from torchvision import transforms\n",
        "from torchvision import transforms,datasets,models\n"
      ],
      "id": "chubby-ebony",
      "execution_count": 1,
      "outputs": []
    },
    {
      "cell_type": "code",
      "metadata": {
        "colab": {
          "base_uri": "https://localhost:8080/",
          "height": 49,
          "referenced_widgets": [
            "06b65ec84cec433ca4eae2b28c70c859",
            "0fabfc7bf85f4115802fb044fb0775de",
            "1b0c633a609b427094cfc50e50bd9cf7"
          ]
        },
        "id": "medium-blond",
        "outputId": "b36dd713-89ea-45ba-d74e-90012684f06a"
      },
      "source": [
        "import ipywidgets as widgets\n",
        "widgets.IntSlider()"
      ],
      "id": "medium-blond",
      "execution_count": 2,
      "outputs": [
        {
          "output_type": "display_data",
          "data": {
            "application/vnd.jupyter.widget-view+json": {
              "model_id": "06b65ec84cec433ca4eae2b28c70c859",
              "version_minor": 0,
              "version_major": 2
            },
            "text/plain": [
              "IntSlider(value=0)"
            ]
          },
          "metadata": {
            "tags": []
          }
        }
      ]
    },
    {
      "cell_type": "code",
      "metadata": {
        "id": "labeled-framing"
      },
      "source": [
        "torch.cuda.device(0)\n",
        "torch.cuda.device_count()\n",
        "torch.cuda.get_device_name(0)"
      ],
      "id": "labeled-framing",
      "execution_count": null,
      "outputs": []
    },
    {
      "cell_type": "code",
      "metadata": {
        "id": "obvious-slope"
      },
      "source": [
        "device = torch.device(\"cuda\" if torch.cuda.is_available() else 'cpu')"
      ],
      "id": "obvious-slope",
      "execution_count": 4,
      "outputs": []
    },
    {
      "cell_type": "code",
      "metadata": {
        "colab": {
          "base_uri": "https://localhost:8080/",
          "height": 99,
          "referenced_widgets": [
            "0bab95f3a04d4ad99bb3deaafb7fb24d",
            "c040e86ccbcd41438eb9d65a72ba2755",
            "2f6e219a02764dbfa76acbe670e8f06e",
            "c802909faca840ad947672bf3daa2cb3",
            "571e16ffdc4743c09ffab7760116b21d",
            "e06b0c9909004dfaa42719c2efd069ec",
            "74024a210c77413581faa81257f349ba",
            "fae402e57f7746a59f2c55478cd448a4"
          ]
        },
        "id": "M71qBYa5nYig",
        "outputId": "41c4d0d0-94f9-4ed3-aab0-252b3682b5aa"
      },
      "source": [
        "train_set = datasets.CIFAR10('/content/', train=True, download=True)\n",
        "test_set = datasets.CIFAR10('/content/', train=False, download=False)"
      ],
      "id": "M71qBYa5nYig",
      "execution_count": 5,
      "outputs": [
        {
          "output_type": "stream",
          "text": [
            "Downloading https://www.cs.toronto.edu/~kriz/cifar-10-python.tar.gz to /content/cifar-10-python.tar.gz\n"
          ],
          "name": "stdout"
        },
        {
          "output_type": "display_data",
          "data": {
            "application/vnd.jupyter.widget-view+json": {
              "model_id": "0bab95f3a04d4ad99bb3deaafb7fb24d",
              "version_minor": 0,
              "version_major": 2
            },
            "text/plain": [
              "HBox(children=(FloatProgress(value=0.0, max=170498071.0), HTML(value='')))"
            ]
          },
          "metadata": {
            "tags": []
          }
        },
        {
          "output_type": "stream",
          "text": [
            "\n",
            "Extracting /content/cifar-10-python.tar.gz to /content/\n"
          ],
          "name": "stdout"
        }
      ]
    },
    {
      "cell_type": "code",
      "metadata": {
        "colab": {
          "base_uri": "https://localhost:8080/"
        },
        "id": "dU_B5n4uVJ9G",
        "outputId": "f0d500b0-c90e-43dd-ba9e-ac9f8d312c34"
      },
      "source": [
        "train_img = train_set.data\n",
        "test_img = test_set.data\n",
        "# rgb_batch = np.repeat(grayscale_batch[..., train_img], 3, -1)\n",
        "train_img.shape"
      ],
      "id": "dU_B5n4uVJ9G",
      "execution_count": 7,
      "outputs": [
        {
          "output_type": "execute_result",
          "data": {
            "text/plain": [
              "(50000, 32, 32, 3)"
            ]
          },
          "metadata": {
            "tags": []
          },
          "execution_count": 7
        }
      ]
    },
    {
      "cell_type": "code",
      "metadata": {
        "colab": {
          "base_uri": "https://localhost:8080/"
        },
        "id": "FqDv_jKlnYmT",
        "outputId": "3f7ca8ee-dffa-4889-bdd5-8d26e092aada"
      },
      "source": [
        "\n",
        "batch_size = 500\n",
        "train_images = torch.Tensor(train_img).permute(0,3,1,2).to(device)\n",
        "test_images = torch.Tensor(test_img).permute(0,3,1,2).to(device)\n",
        "train_images.shape\n"
      ],
      "id": "FqDv_jKlnYmT",
      "execution_count": 8,
      "outputs": [
        {
          "output_type": "execute_result",
          "data": {
            "text/plain": [
              "torch.Size([50000, 3, 32, 32])"
            ]
          },
          "metadata": {
            "tags": []
          },
          "execution_count": 8
        }
      ]
    },
    {
      "cell_type": "code",
      "metadata": {
        "id": "rolled-handy"
      },
      "source": [
        "def variational_loss(output,X_in,mean,std):\n",
        "    #loss_function = nn.MSELoss()\n",
        "    loss_function = nn.SmoothL1Loss(reduction='sum')\n",
        "    rec_loss=loss_function(output,X_in)\n",
        "\n",
        "    kl_loss= -0.5*torch.sum(1+torch.log(torch.pow(std,2)+1e-10)-torch.pow(std,2)-torch.pow(mean,2))\n",
        "    total_loss=(rec_loss+kl_loss)/(len(X_in))\n",
        "\n",
        "    return total_loss"
      ],
      "id": "rolled-handy",
      "execution_count": 9,
      "outputs": []
    },
    {
      "cell_type": "code",
      "metadata": {
        "id": "tough-moderator"
      },
      "source": [
        "class EncoderBlock(nn.Module):\n",
        "    \n",
        "    def __init__(self, in_channels, out_channels, identity_downsample=None,  stride=1):\n",
        "        \n",
        "        super(EncoderBlock, self).__init__()\n",
        "        \n",
        "        self.expansion=4\n",
        "        \n",
        "        self.conv1=nn.Conv2d(in_channels, out_channels,kernel_size=1,stride=1,padding=0)\n",
        "        \n",
        "        self.bn1=nn.BatchNorm2d(out_channels)\n",
        "        \n",
        "        self.conv2=nn.Conv2d(out_channels, out_channels,kernel_size=3,stride=stride,padding=1)\n",
        "        self.bn2=nn.BatchNorm2d(out_channels)\n",
        "        self.conv3=nn.Conv2d(out_channels, out_channels*self.expansion,kernel_size=1,stride=1,padding=0)\n",
        "        self.bn3=nn.BatchNorm2d(out_channels*self.expansion)\n",
        "        self.relu=nn.ReLU()\n",
        "        self.identity_downsample=identity_downsample\n",
        "        self.stride=stride\n",
        "        \n",
        "    def forward(self, x):\n",
        "        \n",
        "        \n",
        "        identity=x.clone()\n",
        "        \n",
        "        \n",
        "        x=self.conv1(x)\n",
        "        x=self.bn1(x)\n",
        "        x=self.relu(x)\n",
        "        x=self.conv2(x)\n",
        "        x=self.bn2(x)\n",
        "        x=self.relu(x)\n",
        "        x=self.conv3(x)\n",
        "        x=self.bn3(x)\n",
        "        x=self.relu(x)\n",
        "        \n",
        "        \n",
        "        if self.identity_downsample is not None: \n",
        "            identity=self.identity_downsample(identity)\n",
        "        x+=identity\n",
        "        x=self.relu(x)\n",
        "        \n",
        "        return x\n",
        "        \n",
        "        \n",
        "encode_block=EncoderBlock\n",
        "\n",
        "\n",
        "class DecoderBlock(nn.Module):\n",
        "    def __init__(self, in_channels, out_channels,stride=1,upsample=None,shape=None, padding=1):\n",
        "        \n",
        "        super(DecoderBlock, self).__init__()\n",
        "        \n",
        "        self.contract=4\n",
        "        self.out_channels=out_channels\n",
        "            \n",
        "        self.trans1=nn.ConvTranspose2d(in_channels, out_channels, 3, stride, padding)\n",
        "        self.bn1=nn.BatchNorm2d(out_channels)\n",
        "            \n",
        "        self.trans2=nn.ConvTranspose2d(out_channels, out_channels, 1, 1, 0)\n",
        "        self.bn2=nn.BatchNorm2d(out_channels)\n",
        "            \n",
        "        self.trans3=nn.ConvTranspose2d(out_channels, out_channels//self.contract, 1, 1, 0)\n",
        "        self.bn3=nn.BatchNorm2d(out_channels//self.contract)\n",
        "        \n",
        "        \n",
        "            \n",
        "        self.relu=nn.ReLU()\n",
        "        self.upsample = upsample\n",
        "        \n",
        "        self.stride=stride\n",
        "        \n",
        "        self.shape=shape\n",
        "               \n",
        "            \n",
        "            \n",
        "    def forward(self, x):\n",
        "        identity=x.clone()\n",
        "        #print(\"id\",x.size())\n",
        "        shape=self.shape\n",
        "        if self.shape is not None:\n",
        "            shape=[x.size()[0],self.out_channels,self.shape,self.shape]\n",
        "        \n",
        "        \n",
        "        x=self.trans1(x,shape)\n",
        "        x=self.bn1(x)\n",
        "        x=self.relu(x)\n",
        "        \n",
        "        x=self.trans2(x)\n",
        "        x=self.bn2(x)\n",
        "        x=self.relu(x)\n",
        "        \n",
        "        x=self.trans3(x)\n",
        "        #print(\"3\",x.size())\n",
        "        \n",
        "        x=self.bn3(x)\n",
        "        #print(x.size())\n",
        "        x=self.relu(x)\n",
        "        #print(x.size())\n",
        "        \n",
        "        if self.upsample is not None: \n",
        "            identity=self.upsample(identity,x.size())\n",
        "            identity=self.bn3(identity)\n",
        "            \n",
        "        #print(\"id\",identity.size())\n",
        "        #print(\"x+\",x.size())\n",
        "        x+=identity\n",
        "        x=self.relu(x)\n",
        "        \n",
        "        \n",
        "        return x\n",
        "    \n",
        "decode_block=DecoderBlock\n",
        "\n"
      ],
      "id": "tough-moderator",
      "execution_count": 32,
      "outputs": []
    },
    {
      "cell_type": "code",
      "metadata": {
        "id": "deluxe-basics"
      },
      "source": [
        "class ResNet(nn.Module):\n",
        "    def __init__(self, encode_block,layers,decode_block,decode_layers, img_channels, num_class):\n",
        "        super(ResNet, self).__init__()\n",
        "        \n",
        "        self.in_channels=16\n",
        "        \n",
        "        self.layer= nn.Sequential(nn.Conv2d(img_channels, 16, kernel_size=3, stride=1, padding=1, bias=False),\n",
        "                                  nn.BatchNorm2d(16),\n",
        "                                  nn.ReLU(),\n",
        "        )\n",
        "        \n",
        "        \n",
        "        \n",
        "        self.layer1 = self.make_layer(\n",
        "            encode_block, layers[0], out_channels=64, stride=1\n",
        "        )\n",
        "        self.layer2 = self.make_layer(\n",
        "            encode_block, layers[1], out_channels=128, stride=2\n",
        "        )\n",
        "        self.layer3 = self.make_layer(\n",
        "            encode_block, layers[2], out_channels=256, stride=2\n",
        "        )\n",
        "\n",
        "        self.avgpool = nn.AdaptiveAvgPool2d((1, 1))\n",
        "        self.fc = nn.Flatten()\n",
        "        \n",
        "        \n",
        "        \n",
        "        self.decode_in_channels=512\n",
        "        self.decode_padding=1\n",
        "        \n",
        "        self.trans_layer1 = self.make_trans_layer(\n",
        "            decode_block, decode_layers[0], out_channels=512, shape=2, stride=2\n",
        "        )\n",
        "        self.trans_layer2 = self.make_trans_layer(\n",
        "            decode_block, decode_layers[1], out_channels=256, shape=4, stride=2\n",
        "        )\n",
        "            \n",
        "        self.trans_layer3 = self.make_trans_layer(\n",
        "            decode_block, decode_layers[2], out_channels=128, shape=8, stride=2        \n",
        "        )\n",
        "        self.trans_layer4 = self.make_trans_layer(\n",
        "            decode_block, decode_layers[3], out_channels=64, shape=16, stride=2\n",
        "        )\n",
        "\n",
        "        #self.trans_layer5 = self.make_trans_layer(\n",
        "        #    decode_block, decode_layers[4], out_channels=12, shape=32, stride=2\n",
        "        #)\n",
        "\n",
        "        self.trans_layer5 = nn.ConvTranspose2d(16, out_channels=3,kernel_size=3, stride=2, padding=1)\n",
        "\n",
        "    def forward(self, x):\n",
        "        \n",
        "        x=self.layer(x)\n",
        "        x=self.layer1(x)\n",
        "        x=self.layer2(x)\n",
        "        x=self.layer3(x)\n",
        "        x=self.avgpool(x)\n",
        "\n",
        "        latent = self.fc(x)\n",
        "\n",
        "\n",
        "        mean,std=torch.chunk(latent,2,dim=1)\n",
        "        sample = mean + torch.randn_like(std)*std\n",
        "        x=sample.view(sample.shape[0],512,1,1)\n",
        "        \n",
        "        \n",
        "        \n",
        "        x=self.trans_layer1(x)\n",
        "        x=self.trans_layer2(x)\n",
        "        x=self.trans_layer3(x) \n",
        "        x=self.trans_layer4(x)\n",
        "        x=self.trans_layer5(x,[x.size(0),3,32,32])\n",
        "        \n",
        "        return x,mean, std\n",
        "    \n",
        "    def make_layer(self, encode_block, blocks, out_channels,stride=1):\n",
        "        \n",
        "        downsample = None\n",
        "        layers = []\n",
        "        \n",
        "        if stride != 1 or self.in_channels != out_channels * 4:\n",
        "            downsample = nn.Sequential(\n",
        "                nn.Conv2d(\n",
        "                    self.in_channels,\n",
        "                    out_channels * 4,\n",
        "                    kernel_size=1,\n",
        "                    stride=stride,\n",
        "                    bias=False,\n",
        "                    \n",
        "                ),nn.BatchNorm2d(out_channels * 4),)\n",
        "            \n",
        "  \n",
        "        layers.append(encode_block(self.in_channels, out_channels, downsample, stride)\n",
        "                     )\n",
        "        \n",
        "        \n",
        "        self.in_channels = out_channels*4\n",
        "        \n",
        "        for i in range(1, blocks):\n",
        "            layers.append(encode_block(self.in_channels, out_channels))\n",
        "        return nn.Sequential(*layers)\n",
        "    \n",
        "    \n",
        "    \n",
        "    def make_trans_layer(self, decode_block, blocks, out_channels, shape=None, stride=1):\n",
        "        \n",
        "        upsample = None\n",
        "        layers = []\n",
        "        \n",
        "        if stride != 1 or self.in_channels != out_channels/4:\n",
        "            \n",
        "            upsample = nn.ConvTranspose2d(self.decode_in_channels, out_channels//4,kernel_size=3,stride=2,bias=False,padding=1)\n",
        "                                   \n",
        "                                   \n",
        "                                   \n",
        "        layers.append(decode_block(self.decode_in_channels, out_channels, stride, upsample, shape,padding=self.decode_padding)\n",
        "                     )\n",
        "        \n",
        "        \n",
        "        self.decode_in_channels= out_channels//4\n",
        "        \n",
        "        for i in range(1, blocks):\n",
        "            layers.append(decode_block(in_channels=self.decode_in_channels, out_channels=out_channels))\n",
        "    \n",
        "        return nn.Sequential(*layers)\n",
        "    \n",
        "    \n",
        "    "
      ],
      "id": "deluxe-basics",
      "execution_count": 43,
      "outputs": []
    },
    {
      "cell_type": "code",
      "metadata": {
        "id": "TU0s-X3M-oI6"
      },
      "source": [
        "net=ResNet(encode_block,[2,2,3], decode_block, [1,1,2,3], 3, 10).to(device)"
      ],
      "id": "TU0s-X3M-oI6",
      "execution_count": 44,
      "outputs": []
    },
    {
      "cell_type": "code",
      "metadata": {
        "colab": {
          "base_uri": "https://localhost:8080/"
        },
        "id": "qEyirAqTfXoL",
        "outputId": "e54baaa5-fa02-43a7-f9d4-b7fa57ecd69a"
      },
      "source": [
        "w=torch.randn([1,3,32,32])\n",
        "net(w.to(device))[0].size()"
      ],
      "id": "qEyirAqTfXoL",
      "execution_count": 42,
      "outputs": [
        {
          "output_type": "execute_result",
          "data": {
            "text/plain": [
              "torch.Size([1, 3, 32, 32])"
            ]
          },
          "metadata": {
            "tags": []
          },
          "execution_count": 42
        }
      ]
    },
    {
      "cell_type": "code",
      "metadata": {
        "id": "0UfnTsbanYqN"
      },
      "source": [
        "def train(X):\n",
        "    loss_list=[]\n",
        "    for epoch in range(0,30):\n",
        "        cost = 0\n",
        "#         batch = torch.from_numpy(np.arange(0,X.shape[0],dtype=\"int64\"))\n",
        "#If you would like to check with arange instead of randperm, then uncomment above and comment below lines respectively\n",
        "        batch=torch.randperm(X.shape[0]).to(device)\n",
        "        for i in range(0, X.shape[0],batch_size):\n",
        "            output,mean,std = net(X[batch[i:i+batch_size]].to(device))\n",
        "            optimiser.zero_grad()\n",
        "#             rev_fc=nn.ConvTranspose2d(3,1,2,1,0)\n",
        "#             X=rev_fc(X)\n",
        "            loss=variational_loss(output,X[batch[i:i+batch_size]],mean,std)\n",
        "            cost = cost+loss.item() \n",
        "            loss.backward()\n",
        "            optimiser.step()\n",
        "        loss_avg = cost / X.shape[0]\n",
        "        loss_list.append(loss_avg)\n",
        "        print(\"For iteration: \", epoch+1, \" the loss is :\", loss_avg)\n",
        "#         a=mean.detach().numpy()\n",
        "#         plt.scatter(a[:,0],a[:,1])\n",
        "#         break\n",
        "    return loss_list"
      ],
      "id": "0UfnTsbanYqN",
      "execution_count": 45,
      "outputs": []
    },
    {
      "cell_type": "code",
      "metadata": {
        "id": "modern-footwear"
      },
      "source": [
        "optimiser = optim.Adam(net.parameters(), lr=0.09)\n",
        "net=net.to(device)"
      ],
      "id": "modern-footwear",
      "execution_count": 46,
      "outputs": []
    },
    {
      "cell_type": "code",
      "metadata": {
        "colab": {
          "base_uri": "https://localhost:8080/",
          "height": 353
        },
        "id": "zwnFBc-jnYr4",
        "outputId": "cadaac9e-00be-4373-b6cb-0cf38d96300e"
      },
      "source": [
        "import matplotlib.pyplot as plt\n",
        "train_loss= train(train_images)"
      ],
      "id": "zwnFBc-jnYr4",
      "execution_count": 47,
      "outputs": [
        {
          "output_type": "error",
          "ename": "RuntimeError",
          "evalue": "ignored",
          "traceback": [
            "\u001b[0;31m---------------------------------------------------------------------------\u001b[0m",
            "\u001b[0;31mRuntimeError\u001b[0m                              Traceback (most recent call last)",
            "\u001b[0;32m<ipython-input-47-2f370978048b>\u001b[0m in \u001b[0;36m<module>\u001b[0;34m()\u001b[0m\n\u001b[1;32m      1\u001b[0m \u001b[0;32mimport\u001b[0m \u001b[0mmatplotlib\u001b[0m\u001b[0;34m.\u001b[0m\u001b[0mpyplot\u001b[0m \u001b[0;32mas\u001b[0m \u001b[0mplt\u001b[0m\u001b[0;34m\u001b[0m\u001b[0;34m\u001b[0m\u001b[0m\n\u001b[0;32m----> 2\u001b[0;31m \u001b[0mtrain_loss\u001b[0m\u001b[0;34m=\u001b[0m \u001b[0mtrain\u001b[0m\u001b[0;34m(\u001b[0m\u001b[0mtrain_images\u001b[0m\u001b[0;34m)\u001b[0m\u001b[0;34m\u001b[0m\u001b[0;34m\u001b[0m\u001b[0m\n\u001b[0m",
            "\u001b[0;32m<ipython-input-45-7ef63f9c41eb>\u001b[0m in \u001b[0;36mtrain\u001b[0;34m(X)\u001b[0m\n\u001b[1;32m      7\u001b[0m         \u001b[0mbatch\u001b[0m\u001b[0;34m=\u001b[0m\u001b[0mtorch\u001b[0m\u001b[0;34m.\u001b[0m\u001b[0mrandperm\u001b[0m\u001b[0;34m(\u001b[0m\u001b[0mX\u001b[0m\u001b[0;34m.\u001b[0m\u001b[0mshape\u001b[0m\u001b[0;34m[\u001b[0m\u001b[0;36m0\u001b[0m\u001b[0;34m]\u001b[0m\u001b[0;34m)\u001b[0m\u001b[0;34m.\u001b[0m\u001b[0mto\u001b[0m\u001b[0;34m(\u001b[0m\u001b[0mdevice\u001b[0m\u001b[0;34m)\u001b[0m\u001b[0;34m\u001b[0m\u001b[0;34m\u001b[0m\u001b[0m\n\u001b[1;32m      8\u001b[0m         \u001b[0;32mfor\u001b[0m \u001b[0mi\u001b[0m \u001b[0;32min\u001b[0m \u001b[0mrange\u001b[0m\u001b[0;34m(\u001b[0m\u001b[0;36m0\u001b[0m\u001b[0;34m,\u001b[0m \u001b[0mX\u001b[0m\u001b[0;34m.\u001b[0m\u001b[0mshape\u001b[0m\u001b[0;34m[\u001b[0m\u001b[0;36m0\u001b[0m\u001b[0;34m]\u001b[0m\u001b[0;34m,\u001b[0m\u001b[0mbatch_size\u001b[0m\u001b[0;34m)\u001b[0m\u001b[0;34m:\u001b[0m\u001b[0;34m\u001b[0m\u001b[0;34m\u001b[0m\u001b[0m\n\u001b[0;32m----> 9\u001b[0;31m             \u001b[0moutput\u001b[0m\u001b[0;34m,\u001b[0m\u001b[0mmean\u001b[0m\u001b[0;34m,\u001b[0m\u001b[0mstd\u001b[0m \u001b[0;34m=\u001b[0m \u001b[0mnet\u001b[0m\u001b[0;34m(\u001b[0m\u001b[0mX\u001b[0m\u001b[0;34m[\u001b[0m\u001b[0mbatch\u001b[0m\u001b[0;34m[\u001b[0m\u001b[0mi\u001b[0m\u001b[0;34m:\u001b[0m\u001b[0mi\u001b[0m\u001b[0;34m+\u001b[0m\u001b[0mbatch_size\u001b[0m\u001b[0;34m]\u001b[0m\u001b[0;34m]\u001b[0m\u001b[0;34m.\u001b[0m\u001b[0mto\u001b[0m\u001b[0;34m(\u001b[0m\u001b[0mdevice\u001b[0m\u001b[0;34m)\u001b[0m\u001b[0;34m)\u001b[0m\u001b[0;34m\u001b[0m\u001b[0;34m\u001b[0m\u001b[0m\n\u001b[0m\u001b[1;32m     10\u001b[0m             \u001b[0moptimiser\u001b[0m\u001b[0;34m.\u001b[0m\u001b[0mzero_grad\u001b[0m\u001b[0;34m(\u001b[0m\u001b[0;34m)\u001b[0m\u001b[0;34m\u001b[0m\u001b[0;34m\u001b[0m\u001b[0m\n\u001b[1;32m     11\u001b[0m \u001b[0;31m#             rev_fc=nn.ConvTranspose2d(3,1,2,1,0)\u001b[0m\u001b[0;34m\u001b[0m\u001b[0;34m\u001b[0m\u001b[0;34m\u001b[0m\u001b[0m\n",
            "\u001b[0;32m/usr/local/lib/python3.7/dist-packages/torch/nn/modules/module.py\u001b[0m in \u001b[0;36m_call_impl\u001b[0;34m(self, *input, **kwargs)\u001b[0m\n\u001b[1;32m    887\u001b[0m             \u001b[0mresult\u001b[0m \u001b[0;34m=\u001b[0m \u001b[0mself\u001b[0m\u001b[0;34m.\u001b[0m\u001b[0m_slow_forward\u001b[0m\u001b[0;34m(\u001b[0m\u001b[0;34m*\u001b[0m\u001b[0minput\u001b[0m\u001b[0;34m,\u001b[0m \u001b[0;34m**\u001b[0m\u001b[0mkwargs\u001b[0m\u001b[0;34m)\u001b[0m\u001b[0;34m\u001b[0m\u001b[0;34m\u001b[0m\u001b[0m\n\u001b[1;32m    888\u001b[0m         \u001b[0;32melse\u001b[0m\u001b[0;34m:\u001b[0m\u001b[0;34m\u001b[0m\u001b[0;34m\u001b[0m\u001b[0m\n\u001b[0;32m--> 889\u001b[0;31m             \u001b[0mresult\u001b[0m \u001b[0;34m=\u001b[0m \u001b[0mself\u001b[0m\u001b[0;34m.\u001b[0m\u001b[0mforward\u001b[0m\u001b[0;34m(\u001b[0m\u001b[0;34m*\u001b[0m\u001b[0minput\u001b[0m\u001b[0;34m,\u001b[0m \u001b[0;34m**\u001b[0m\u001b[0mkwargs\u001b[0m\u001b[0;34m)\u001b[0m\u001b[0;34m\u001b[0m\u001b[0;34m\u001b[0m\u001b[0m\n\u001b[0m\u001b[1;32m    890\u001b[0m         for hook in itertools.chain(\n\u001b[1;32m    891\u001b[0m                 \u001b[0m_global_forward_hooks\u001b[0m\u001b[0;34m.\u001b[0m\u001b[0mvalues\u001b[0m\u001b[0;34m(\u001b[0m\u001b[0;34m)\u001b[0m\u001b[0;34m,\u001b[0m\u001b[0;34m\u001b[0m\u001b[0;34m\u001b[0m\u001b[0m\n",
            "\u001b[0;32m<ipython-input-43-9efedd3d331f>\u001b[0m in \u001b[0;36mforward\u001b[0;34m(self, x)\u001b[0m\n\u001b[1;32m     54\u001b[0m         \u001b[0mx\u001b[0m\u001b[0;34m=\u001b[0m\u001b[0mself\u001b[0m\u001b[0;34m.\u001b[0m\u001b[0mlayer\u001b[0m\u001b[0;34m(\u001b[0m\u001b[0mx\u001b[0m\u001b[0;34m)\u001b[0m\u001b[0;34m\u001b[0m\u001b[0;34m\u001b[0m\u001b[0m\n\u001b[1;32m     55\u001b[0m         \u001b[0mx\u001b[0m\u001b[0;34m=\u001b[0m\u001b[0mself\u001b[0m\u001b[0;34m.\u001b[0m\u001b[0mlayer1\u001b[0m\u001b[0;34m(\u001b[0m\u001b[0mx\u001b[0m\u001b[0;34m)\u001b[0m\u001b[0;34m\u001b[0m\u001b[0;34m\u001b[0m\u001b[0m\n\u001b[0;32m---> 56\u001b[0;31m         \u001b[0mx\u001b[0m\u001b[0;34m=\u001b[0m\u001b[0mself\u001b[0m\u001b[0;34m.\u001b[0m\u001b[0mlayer2\u001b[0m\u001b[0;34m(\u001b[0m\u001b[0mx\u001b[0m\u001b[0;34m)\u001b[0m\u001b[0;34m\u001b[0m\u001b[0;34m\u001b[0m\u001b[0m\n\u001b[0m\u001b[1;32m     57\u001b[0m         \u001b[0mx\u001b[0m\u001b[0;34m=\u001b[0m\u001b[0mself\u001b[0m\u001b[0;34m.\u001b[0m\u001b[0mlayer3\u001b[0m\u001b[0;34m(\u001b[0m\u001b[0mx\u001b[0m\u001b[0;34m)\u001b[0m\u001b[0;34m\u001b[0m\u001b[0;34m\u001b[0m\u001b[0m\n\u001b[1;32m     58\u001b[0m         \u001b[0mx\u001b[0m\u001b[0;34m=\u001b[0m\u001b[0mself\u001b[0m\u001b[0;34m.\u001b[0m\u001b[0mavgpool\u001b[0m\u001b[0;34m(\u001b[0m\u001b[0mx\u001b[0m\u001b[0;34m)\u001b[0m\u001b[0;34m\u001b[0m\u001b[0;34m\u001b[0m\u001b[0m\n",
            "\u001b[0;32m/usr/local/lib/python3.7/dist-packages/torch/nn/modules/module.py\u001b[0m in \u001b[0;36m_call_impl\u001b[0;34m(self, *input, **kwargs)\u001b[0m\n\u001b[1;32m    887\u001b[0m             \u001b[0mresult\u001b[0m \u001b[0;34m=\u001b[0m \u001b[0mself\u001b[0m\u001b[0;34m.\u001b[0m\u001b[0m_slow_forward\u001b[0m\u001b[0;34m(\u001b[0m\u001b[0;34m*\u001b[0m\u001b[0minput\u001b[0m\u001b[0;34m,\u001b[0m \u001b[0;34m**\u001b[0m\u001b[0mkwargs\u001b[0m\u001b[0;34m)\u001b[0m\u001b[0;34m\u001b[0m\u001b[0;34m\u001b[0m\u001b[0m\n\u001b[1;32m    888\u001b[0m         \u001b[0;32melse\u001b[0m\u001b[0;34m:\u001b[0m\u001b[0;34m\u001b[0m\u001b[0;34m\u001b[0m\u001b[0m\n\u001b[0;32m--> 889\u001b[0;31m             \u001b[0mresult\u001b[0m \u001b[0;34m=\u001b[0m \u001b[0mself\u001b[0m\u001b[0;34m.\u001b[0m\u001b[0mforward\u001b[0m\u001b[0;34m(\u001b[0m\u001b[0;34m*\u001b[0m\u001b[0minput\u001b[0m\u001b[0;34m,\u001b[0m \u001b[0;34m**\u001b[0m\u001b[0mkwargs\u001b[0m\u001b[0;34m)\u001b[0m\u001b[0;34m\u001b[0m\u001b[0;34m\u001b[0m\u001b[0m\n\u001b[0m\u001b[1;32m    890\u001b[0m         for hook in itertools.chain(\n\u001b[1;32m    891\u001b[0m                 \u001b[0m_global_forward_hooks\u001b[0m\u001b[0;34m.\u001b[0m\u001b[0mvalues\u001b[0m\u001b[0;34m(\u001b[0m\u001b[0;34m)\u001b[0m\u001b[0;34m,\u001b[0m\u001b[0;34m\u001b[0m\u001b[0;34m\u001b[0m\u001b[0m\n",
            "\u001b[0;32m/usr/local/lib/python3.7/dist-packages/torch/nn/modules/container.py\u001b[0m in \u001b[0;36mforward\u001b[0;34m(self, input)\u001b[0m\n\u001b[1;32m    117\u001b[0m     \u001b[0;32mdef\u001b[0m \u001b[0mforward\u001b[0m\u001b[0;34m(\u001b[0m\u001b[0mself\u001b[0m\u001b[0;34m,\u001b[0m \u001b[0minput\u001b[0m\u001b[0;34m)\u001b[0m\u001b[0;34m:\u001b[0m\u001b[0;34m\u001b[0m\u001b[0;34m\u001b[0m\u001b[0m\n\u001b[1;32m    118\u001b[0m         \u001b[0;32mfor\u001b[0m \u001b[0mmodule\u001b[0m \u001b[0;32min\u001b[0m \u001b[0mself\u001b[0m\u001b[0;34m:\u001b[0m\u001b[0;34m\u001b[0m\u001b[0;34m\u001b[0m\u001b[0m\n\u001b[0;32m--> 119\u001b[0;31m             \u001b[0minput\u001b[0m \u001b[0;34m=\u001b[0m \u001b[0mmodule\u001b[0m\u001b[0;34m(\u001b[0m\u001b[0minput\u001b[0m\u001b[0;34m)\u001b[0m\u001b[0;34m\u001b[0m\u001b[0;34m\u001b[0m\u001b[0m\n\u001b[0m\u001b[1;32m    120\u001b[0m         \u001b[0;32mreturn\u001b[0m \u001b[0minput\u001b[0m\u001b[0;34m\u001b[0m\u001b[0;34m\u001b[0m\u001b[0m\n\u001b[1;32m    121\u001b[0m \u001b[0;34m\u001b[0m\u001b[0m\n",
            "\u001b[0;32m/usr/local/lib/python3.7/dist-packages/torch/nn/modules/module.py\u001b[0m in \u001b[0;36m_call_impl\u001b[0;34m(self, *input, **kwargs)\u001b[0m\n\u001b[1;32m    887\u001b[0m             \u001b[0mresult\u001b[0m \u001b[0;34m=\u001b[0m \u001b[0mself\u001b[0m\u001b[0;34m.\u001b[0m\u001b[0m_slow_forward\u001b[0m\u001b[0;34m(\u001b[0m\u001b[0;34m*\u001b[0m\u001b[0minput\u001b[0m\u001b[0;34m,\u001b[0m \u001b[0;34m**\u001b[0m\u001b[0mkwargs\u001b[0m\u001b[0;34m)\u001b[0m\u001b[0;34m\u001b[0m\u001b[0;34m\u001b[0m\u001b[0m\n\u001b[1;32m    888\u001b[0m         \u001b[0;32melse\u001b[0m\u001b[0;34m:\u001b[0m\u001b[0;34m\u001b[0m\u001b[0;34m\u001b[0m\u001b[0m\n\u001b[0;32m--> 889\u001b[0;31m             \u001b[0mresult\u001b[0m \u001b[0;34m=\u001b[0m \u001b[0mself\u001b[0m\u001b[0;34m.\u001b[0m\u001b[0mforward\u001b[0m\u001b[0;34m(\u001b[0m\u001b[0;34m*\u001b[0m\u001b[0minput\u001b[0m\u001b[0;34m,\u001b[0m \u001b[0;34m**\u001b[0m\u001b[0mkwargs\u001b[0m\u001b[0;34m)\u001b[0m\u001b[0;34m\u001b[0m\u001b[0;34m\u001b[0m\u001b[0m\n\u001b[0m\u001b[1;32m    890\u001b[0m         for hook in itertools.chain(\n\u001b[1;32m    891\u001b[0m                 \u001b[0m_global_forward_hooks\u001b[0m\u001b[0;34m.\u001b[0m\u001b[0mvalues\u001b[0m\u001b[0;34m(\u001b[0m\u001b[0;34m)\u001b[0m\u001b[0;34m,\u001b[0m\u001b[0;34m\u001b[0m\u001b[0;34m\u001b[0m\u001b[0m\n",
            "\u001b[0;32m<ipython-input-32-7b25220b6685>\u001b[0m in \u001b[0;36mforward\u001b[0;34m(self, x)\u001b[0m\n\u001b[1;32m     32\u001b[0m         \u001b[0mx\u001b[0m\u001b[0;34m=\u001b[0m\u001b[0mself\u001b[0m\u001b[0;34m.\u001b[0m\u001b[0mrelu\u001b[0m\u001b[0;34m(\u001b[0m\u001b[0mx\u001b[0m\u001b[0;34m)\u001b[0m\u001b[0;34m\u001b[0m\u001b[0;34m\u001b[0m\u001b[0m\n\u001b[1;32m     33\u001b[0m         \u001b[0mx\u001b[0m\u001b[0;34m=\u001b[0m\u001b[0mself\u001b[0m\u001b[0;34m.\u001b[0m\u001b[0mconv3\u001b[0m\u001b[0;34m(\u001b[0m\u001b[0mx\u001b[0m\u001b[0;34m)\u001b[0m\u001b[0;34m\u001b[0m\u001b[0;34m\u001b[0m\u001b[0m\n\u001b[0;32m---> 34\u001b[0;31m         \u001b[0mx\u001b[0m\u001b[0;34m=\u001b[0m\u001b[0mself\u001b[0m\u001b[0;34m.\u001b[0m\u001b[0mbn3\u001b[0m\u001b[0;34m(\u001b[0m\u001b[0mx\u001b[0m\u001b[0;34m)\u001b[0m\u001b[0;34m\u001b[0m\u001b[0;34m\u001b[0m\u001b[0m\n\u001b[0m\u001b[1;32m     35\u001b[0m         \u001b[0mx\u001b[0m\u001b[0;34m=\u001b[0m\u001b[0mself\u001b[0m\u001b[0;34m.\u001b[0m\u001b[0mrelu\u001b[0m\u001b[0;34m(\u001b[0m\u001b[0mx\u001b[0m\u001b[0;34m)\u001b[0m\u001b[0;34m\u001b[0m\u001b[0;34m\u001b[0m\u001b[0m\n\u001b[1;32m     36\u001b[0m \u001b[0;34m\u001b[0m\u001b[0m\n",
            "\u001b[0;32m/usr/local/lib/python3.7/dist-packages/torch/nn/modules/module.py\u001b[0m in \u001b[0;36m_call_impl\u001b[0;34m(self, *input, **kwargs)\u001b[0m\n\u001b[1;32m    887\u001b[0m             \u001b[0mresult\u001b[0m \u001b[0;34m=\u001b[0m \u001b[0mself\u001b[0m\u001b[0;34m.\u001b[0m\u001b[0m_slow_forward\u001b[0m\u001b[0;34m(\u001b[0m\u001b[0;34m*\u001b[0m\u001b[0minput\u001b[0m\u001b[0;34m,\u001b[0m \u001b[0;34m**\u001b[0m\u001b[0mkwargs\u001b[0m\u001b[0;34m)\u001b[0m\u001b[0;34m\u001b[0m\u001b[0;34m\u001b[0m\u001b[0m\n\u001b[1;32m    888\u001b[0m         \u001b[0;32melse\u001b[0m\u001b[0;34m:\u001b[0m\u001b[0;34m\u001b[0m\u001b[0;34m\u001b[0m\u001b[0m\n\u001b[0;32m--> 889\u001b[0;31m             \u001b[0mresult\u001b[0m \u001b[0;34m=\u001b[0m \u001b[0mself\u001b[0m\u001b[0;34m.\u001b[0m\u001b[0mforward\u001b[0m\u001b[0;34m(\u001b[0m\u001b[0;34m*\u001b[0m\u001b[0minput\u001b[0m\u001b[0;34m,\u001b[0m \u001b[0;34m**\u001b[0m\u001b[0mkwargs\u001b[0m\u001b[0;34m)\u001b[0m\u001b[0;34m\u001b[0m\u001b[0;34m\u001b[0m\u001b[0m\n\u001b[0m\u001b[1;32m    890\u001b[0m         for hook in itertools.chain(\n\u001b[1;32m    891\u001b[0m                 \u001b[0m_global_forward_hooks\u001b[0m\u001b[0;34m.\u001b[0m\u001b[0mvalues\u001b[0m\u001b[0;34m(\u001b[0m\u001b[0;34m)\u001b[0m\u001b[0;34m,\u001b[0m\u001b[0;34m\u001b[0m\u001b[0;34m\u001b[0m\u001b[0m\n",
            "\u001b[0;32m/usr/local/lib/python3.7/dist-packages/torch/nn/modules/batchnorm.py\u001b[0m in \u001b[0;36mforward\u001b[0;34m(self, input)\u001b[0m\n\u001b[1;32m    138\u001b[0m             \u001b[0mself\u001b[0m\u001b[0;34m.\u001b[0m\u001b[0mrunning_mean\u001b[0m \u001b[0;32mif\u001b[0m \u001b[0;32mnot\u001b[0m \u001b[0mself\u001b[0m\u001b[0;34m.\u001b[0m\u001b[0mtraining\u001b[0m \u001b[0;32mor\u001b[0m \u001b[0mself\u001b[0m\u001b[0;34m.\u001b[0m\u001b[0mtrack_running_stats\u001b[0m \u001b[0;32melse\u001b[0m \u001b[0;32mNone\u001b[0m\u001b[0;34m,\u001b[0m\u001b[0;34m\u001b[0m\u001b[0;34m\u001b[0m\u001b[0m\n\u001b[1;32m    139\u001b[0m             \u001b[0mself\u001b[0m\u001b[0;34m.\u001b[0m\u001b[0mrunning_var\u001b[0m \u001b[0;32mif\u001b[0m \u001b[0;32mnot\u001b[0m \u001b[0mself\u001b[0m\u001b[0;34m.\u001b[0m\u001b[0mtraining\u001b[0m \u001b[0;32mor\u001b[0m \u001b[0mself\u001b[0m\u001b[0;34m.\u001b[0m\u001b[0mtrack_running_stats\u001b[0m \u001b[0;32melse\u001b[0m \u001b[0;32mNone\u001b[0m\u001b[0;34m,\u001b[0m\u001b[0;34m\u001b[0m\u001b[0;34m\u001b[0m\u001b[0m\n\u001b[0;32m--> 140\u001b[0;31m             self.weight, self.bias, bn_training, exponential_average_factor, self.eps)\n\u001b[0m\u001b[1;32m    141\u001b[0m \u001b[0;34m\u001b[0m\u001b[0m\n\u001b[1;32m    142\u001b[0m \u001b[0;34m\u001b[0m\u001b[0m\n",
            "\u001b[0;32m/usr/local/lib/python3.7/dist-packages/torch/nn/functional.py\u001b[0m in \u001b[0;36mbatch_norm\u001b[0;34m(input, running_mean, running_var, weight, bias, training, momentum, eps)\u001b[0m\n\u001b[1;32m   2148\u001b[0m \u001b[0;34m\u001b[0m\u001b[0m\n\u001b[1;32m   2149\u001b[0m     return torch.batch_norm(\n\u001b[0;32m-> 2150\u001b[0;31m         \u001b[0minput\u001b[0m\u001b[0;34m,\u001b[0m \u001b[0mweight\u001b[0m\u001b[0;34m,\u001b[0m \u001b[0mbias\u001b[0m\u001b[0;34m,\u001b[0m \u001b[0mrunning_mean\u001b[0m\u001b[0;34m,\u001b[0m \u001b[0mrunning_var\u001b[0m\u001b[0;34m,\u001b[0m \u001b[0mtraining\u001b[0m\u001b[0;34m,\u001b[0m \u001b[0mmomentum\u001b[0m\u001b[0;34m,\u001b[0m \u001b[0meps\u001b[0m\u001b[0;34m,\u001b[0m \u001b[0mtorch\u001b[0m\u001b[0;34m.\u001b[0m\u001b[0mbackends\u001b[0m\u001b[0;34m.\u001b[0m\u001b[0mcudnn\u001b[0m\u001b[0;34m.\u001b[0m\u001b[0menabled\u001b[0m\u001b[0;34m\u001b[0m\u001b[0;34m\u001b[0m\u001b[0m\n\u001b[0m\u001b[1;32m   2151\u001b[0m     )\n\u001b[1;32m   2152\u001b[0m \u001b[0;34m\u001b[0m\u001b[0m\n",
            "\u001b[0;31mRuntimeError\u001b[0m: CUDA out of memory. Tried to allocate 250.00 MiB (GPU 0; 11.17 GiB total capacity; 10.35 GiB already allocated; 48.81 MiB free; 10.70 GiB reserved in total by PyTorch)"
          ]
        }
      ]
    },
    {
      "cell_type": "code",
      "metadata": {
        "id": "gQOkH-k9wCT4"
      },
      "source": [
        "plt.plot(train_loss)\n",
        "plt.ylabel('cost')\n",
        "plt.xlabel('epoch')\n",
        "plt.show()"
      ],
      "id": "gQOkH-k9wCT4",
      "execution_count": null,
      "outputs": []
    },
    {
      "cell_type": "code",
      "metadata": {
        "colab": {
          "base_uri": "https://localhost:8080/"
        },
        "id": "9f60mJ5CnYwQ",
        "outputId": "800bde82-52b1-427c-c193-52f8023823c6"
      },
      "source": [
        "def test(X):\n",
        "    with torch.no_grad():\n",
        "        cost=0\n",
        "        batch=torch.randperm(X.shape[0])\n",
        "        for i in range(0, X.shape[0],batch_size):\n",
        "            output,mean,std=net(X[batch[i:i+batch_size]])\n",
        "            loss=variational_loss(output,X[batch[i:i+batch_size]],mean,std)\n",
        "            cost=cost+loss.item()\n",
        "        print(cost/X.shape[0])\n",
        "test(test_images)"
      ],
      "id": "9f60mJ5CnYwQ",
      "execution_count": 17,
      "outputs": [
        {
          "output_type": "stream",
          "text": [
            "122.31935859375\n"
          ],
          "name": "stdout"
        }
      ]
    },
    {
      "cell_type": "code",
      "metadata": {
        "colab": {
          "base_uri": "https://localhost:8080/",
          "height": 470
        },
        "id": "mjc77q4gnZ5F",
        "outputId": "0d95996e-e45b-4062-e243-f832f07091df"
      },
      "source": [
        "print(\"MNIST Image\")\n",
        "fig, axes = plt.subplots(1,2)\n",
        "axes[0].imshow(test_img[3])\n",
        "axes[1].imshow(test_img[4])\n",
        "\n",
        "plt.show()\n",
        "\n",
        "print(\"Image through Variational AutoEncoder\")\n",
        "# print(test_images[1:45].shape)\n",
        "output=net(test_images[:5])\n",
        "print(output[0].size())\n",
        "output_img=((output[0].to(torch.device('cpu'))).permute(0,2,3,1).detach().numpy())\n",
        "\n",
        "fig, axes = plt.subplots(1,2)\n",
        "axes[0].imshow(output_img[3])\n",
        "axes[1].imshow(output_img[4])\n",
        "\n",
        "plt.show()"
      ],
      "id": "mjc77q4gnZ5F",
      "execution_count": 25,
      "outputs": [
        {
          "output_type": "stream",
          "text": [
            "MNIST Image\n"
          ],
          "name": "stdout"
        },
        {
          "output_type": "display_data",
          "data": {
            "image/png": "[encoded data removed]",
            "text/plain": [
              "<Figure size 432x288 with 2 Axes>"
            ]
          },
          "metadata": {
            "tags": [],
            "needs_background": "light"
          }
        },
        {
          "output_type": "stream",
          "text": [
            "Clipping input data to the valid range for imshow with RGB data ([0..1] for floats or [0..255] for integers).\n",
            "Clipping input data to the valid range for imshow with RGB data ([0..1] for floats or [0..255] for integers).\n"
          ],
          "name": "stderr"
        },
        {
          "output_type": "stream",
          "text": [
            "Image through Variational AutoEncoder\n",
            "torch.Size([5, 3, 32, 32])\n"
          ],
          "name": "stdout"
        },
        {
          "output_type": "display_data",
          "data": {
            "image/png": "[encoded data removed]",
            "text/plain": [
              "<Figure size 432x288 with 2 Axes>"
            ]
          },
          "metadata": {
            "tags": [],
            "needs_background": "light"
          }
        }
      ]
    },
    {
      "cell_type": "code",
      "metadata": {
        "id": "O_VSYgMKcXfG",
        "colab": {
          "base_uri": "https://localhost:8080/"
        },
        "outputId": "c1c3fee5-20e8-48c5-956e-788505fd201c"
      },
      "source": [
        "print(output_img[3]-test_img[3])"
      ],
      "id": "O_VSYgMKcXfG",
      "execution_count": 31,
      "outputs": [
        {
          "output_type": "stream",
          "text": [
            "[[[-11.7578125  -4.9328156   7.2700653]\n",
            "  [-23.806152  -25.58879   -32.465897 ]\n",
            "  [-32.086823  -27.44017   -36.429    ]\n",
            "  ...\n",
            "  [-79.28762   -61.198013  -63.627045 ]\n",
            "  [-78.85128   -65.41452   -64.764786 ]\n",
            "  [-66.516174  -46.285995  -26.183502 ]]\n",
            "\n",
            " [[ -7.1493683  -2.73349    -1.1481018]\n",
            "  [-19.981308  -28.503494  -48.517456 ]\n",
            "  [-25.501953  -32.233887  -59.757294 ]\n",
            "  ...\n",
            "  [-72.97772   -64.90112   -67.901474 ]\n",
            "  [-70.76082   -69.63034   -72.72299  ]\n",
            "  [-57.65184   -46.200684  -29.661575 ]]\n",
            "\n",
            " [[ -4.9656677   2.079605    5.912674 ]\n",
            "  [-11.884674  -24.330261  -45.458145 ]\n",
            "  [-21.955536  -32.656357  -57.478302 ]\n",
            "  ...\n",
            "  [-67.883896  -57.63286   -55.226837 ]\n",
            "  [-65.25075   -62.334442  -59.887466 ]\n",
            "  [-51.78331   -42.055237  -26.161224 ]]\n",
            "\n",
            " ...\n",
            "\n",
            " [[ 65.674805   58.34433    45.295593 ]\n",
            "  [ 89.06052    77.20598    50.45778  ]\n",
            "  [ 81.59842    65.64788    39.408417 ]\n",
            "  ...\n",
            "  [ 13.130806  -25.688995  -26.96096  ]\n",
            "  [ 50.78643    20.159996   15.191986 ]\n",
            "  [ 42.671898   27.956764   32.593964 ]]\n",
            "\n",
            " [[ 63.91266    58.154373   53.436203 ]\n",
            "  [ 89.914856   78.26048    57.04648  ]\n",
            "  [ 90.34047    72.81978    53.48208  ]\n",
            "  ...\n",
            "  [ 52.57898    35.742844   24.247246 ]\n",
            "  [ 52.635994   41.64012    31.86586  ]\n",
            "  [ 37.343773   36.85852    37.161797 ]]\n",
            "\n",
            " [[ 59.710373   62.70018    53.634796 ]\n",
            "  [ 90.26459    87.33971    65.190735 ]\n",
            "  [ 92.86034    83.51663    65.35137  ]\n",
            "  ...\n",
            "  [ 51.85       42.574104   39.675583 ]\n",
            "  [ 53.145393   45.18463    41.144127 ]\n",
            "  [ 38.473534   39.353386   42.639244 ]]]\n"
          ],
          "name": "stdout"
        }
      ]
    }
  ]
}