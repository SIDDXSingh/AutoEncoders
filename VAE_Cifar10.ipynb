{
  "nbformat": 4,
  "nbformat_minor": 5,
  "metadata": {
    "kernelspec": {
      "display_name": "Python 3",
      "language": "python",
      "name": "python3"
    },
    "language_info": {
      "codemirror_mode": {
        "name": "ipython",
        "version": 3
      },
      "file_extension": ".py",
      "mimetype": "text/x-python",
      "name": "python",
      "nbconvert_exporter": "python",
      "pygments_lexer": "ipython3",
      "version": "3.7.6"
    },
    "colab": {
      "name": "VAE_Cifar10.ipynb",
      "provenance": [],
      "collapsed_sections": [],
      "include_colab_link": true
    },
    "accelerator": "GPU",
    "widgets": {
      "application/vnd.jupyter.widget-state+json": {
        "af04defc1aaa434c80df7beddc6037c1": {
          "model_module": "@jupyter-widgets/controls",
          "model_name": "IntSliderModel",
          "state": {
            "_view_name": "IntSliderView",
            "style": "IPY_MODEL_134222e345ee409a97076094cf020244",
            "_dom_classes": [],
            "description": "",
            "step": 1,
            "_model_name": "IntSliderModel",
            "orientation": "horizontal",
            "max": 100,
            "_view_module": "@jupyter-widgets/controls",
            "_model_module_version": "1.5.0",
            "value": 0,
            "_view_count": null,
            "disabled": false,
            "_view_module_version": "1.5.0",
            "min": 0,
            "continuous_update": true,
            "readout_format": "d",
            "description_tooltip": null,
            "readout": true,
            "_model_module": "@jupyter-widgets/controls",
            "layout": "IPY_MODEL_75f6a32980d143b3b838a0d467f3ee90"
          }
        },
        "134222e345ee409a97076094cf020244": {
          "model_module": "@jupyter-widgets/controls",
          "model_name": "SliderStyleModel",
          "state": {
            "_view_name": "StyleView",
            "handle_color": null,
            "_model_name": "SliderStyleModel",
            "description_width": "",
            "_view_module": "@jupyter-widgets/base",
            "_model_module_version": "1.5.0",
            "_view_count": null,
            "_view_module_version": "1.2.0",
            "_model_module": "@jupyter-widgets/controls"
          }
        },
        "75f6a32980d143b3b838a0d467f3ee90": {
          "model_module": "@jupyter-widgets/base",
          "model_name": "LayoutModel",
          "state": {
            "_view_name": "LayoutView",
            "grid_template_rows": null,
            "right": null,
            "justify_content": null,
            "_view_module": "@jupyter-widgets/base",
            "overflow": null,
            "_model_module_version": "1.2.0",
            "_view_count": null,
            "flex_flow": null,
            "width": null,
            "min_width": null,
            "border": null,
            "align_items": null,
            "bottom": null,
            "_model_module": "@jupyter-widgets/base",
            "top": null,
            "grid_column": null,
            "overflow_y": null,
            "overflow_x": null,
            "grid_auto_flow": null,
            "grid_area": null,
            "grid_template_columns": null,
            "flex": null,
            "_model_name": "LayoutModel",
            "justify_items": null,
            "grid_row": null,
            "max_height": null,
            "align_content": null,
            "visibility": null,
            "align_self": null,
            "height": null,
            "min_height": null,
            "padding": null,
            "grid_auto_rows": null,
            "grid_gap": null,
            "max_width": null,
            "order": null,
            "_view_module_version": "1.2.0",
            "grid_template_areas": null,
            "object_position": null,
            "object_fit": null,
            "grid_auto_columns": null,
            "margin": null,
            "display": null,
            "left": null
          }
        },
        "20bd03c185b948cd839205f25335feab": {
          "model_module": "@jupyter-widgets/controls",
          "model_name": "HBoxModel",
          "state": {
            "_view_name": "HBoxView",
            "_dom_classes": [],
            "_model_name": "HBoxModel",
            "_view_module": "@jupyter-widgets/controls",
            "_model_module_version": "1.5.0",
            "_view_count": null,
            "_view_module_version": "1.5.0",
            "box_style": "",
            "layout": "IPY_MODEL_ac7bc018d21044bb8dc8a02bed9dfc85",
            "_model_module": "@jupyter-widgets/controls",
            "children": [
              "IPY_MODEL_f17baa7bdb7d4c6e9983249bc7c877c9",
              "IPY_MODEL_94723cca6c664648a46ff99a4b87c4bb"
            ]
          }
        },
        "ac7bc018d21044bb8dc8a02bed9dfc85": {
          "model_module": "@jupyter-widgets/base",
          "model_name": "LayoutModel",
          "state": {
            "_view_name": "LayoutView",
            "grid_template_rows": null,
            "right": null,
            "justify_content": null,
            "_view_module": "@jupyter-widgets/base",
            "overflow": null,
            "_model_module_version": "1.2.0",
            "_view_count": null,
            "flex_flow": null,
            "width": null,
            "min_width": null,
            "border": null,
            "align_items": null,
            "bottom": null,
            "_model_module": "@jupyter-widgets/base",
            "top": null,
            "grid_column": null,
            "overflow_y": null,
            "overflow_x": null,
            "grid_auto_flow": null,
            "grid_area": null,
            "grid_template_columns": null,
            "flex": null,
            "_model_name": "LayoutModel",
            "justify_items": null,
            "grid_row": null,
            "max_height": null,
            "align_content": null,
            "visibility": null,
            "align_self": null,
            "height": null,
            "min_height": null,
            "padding": null,
            "grid_auto_rows": null,
            "grid_gap": null,
            "max_width": null,
            "order": null,
            "_view_module_version": "1.2.0",
            "grid_template_areas": null,
            "object_position": null,
            "object_fit": null,
            "grid_auto_columns": null,
            "margin": null,
            "display": null,
            "left": null
          }
        },
        "f17baa7bdb7d4c6e9983249bc7c877c9": {
          "model_module": "@jupyter-widgets/controls",
          "model_name": "FloatProgressModel",
          "state": {
            "_view_name": "ProgressView",
            "style": "IPY_MODEL_802aabc2c6ab4e12a6c4f8fd7679e21e",
            "_dom_classes": [],
            "description": "",
            "_model_name": "FloatProgressModel",
            "bar_style": "success",
            "max": 170498071,
            "_view_module": "@jupyter-widgets/controls",
            "_model_module_version": "1.5.0",
            "value": 170498071,
            "_view_count": null,
            "_view_module_version": "1.5.0",
            "orientation": "horizontal",
            "min": 0,
            "description_tooltip": null,
            "_model_module": "@jupyter-widgets/controls",
            "layout": "IPY_MODEL_3a81f81a9efa473ab7d21496e8a98341"
          }
        },
        "94723cca6c664648a46ff99a4b87c4bb": {
          "model_module": "@jupyter-widgets/controls",
          "model_name": "HTMLModel",
          "state": {
            "_view_name": "HTMLView",
            "style": "IPY_MODEL_681a49034db142eea33991acb42001bf",
            "_dom_classes": [],
            "description": "",
            "_model_name": "HTMLModel",
            "placeholder": "​",
            "_view_module": "@jupyter-widgets/controls",
            "_model_module_version": "1.5.0",
            "value": " 170499072/? [00:16&lt;00:00, 10354928.98it/s]",
            "_view_count": null,
            "_view_module_version": "1.5.0",
            "description_tooltip": null,
            "_model_module": "@jupyter-widgets/controls",
            "layout": "IPY_MODEL_af5ae5449e1f447fa77960bb85e0e982"
          }
        },
        "802aabc2c6ab4e12a6c4f8fd7679e21e": {
          "model_module": "@jupyter-widgets/controls",
          "model_name": "ProgressStyleModel",
          "state": {
            "_view_name": "StyleView",
            "_model_name": "ProgressStyleModel",
            "description_width": "initial",
            "_view_module": "@jupyter-widgets/base",
            "_model_module_version": "1.5.0",
            "_view_count": null,
            "_view_module_version": "1.2.0",
            "bar_color": null,
            "_model_module": "@jupyter-widgets/controls"
          }
        },
        "3a81f81a9efa473ab7d21496e8a98341": {
          "model_module": "@jupyter-widgets/base",
          "model_name": "LayoutModel",
          "state": {
            "_view_name": "LayoutView",
            "grid_template_rows": null,
            "right": null,
            "justify_content": null,
            "_view_module": "@jupyter-widgets/base",
            "overflow": null,
            "_model_module_version": "1.2.0",
            "_view_count": null,
            "flex_flow": null,
            "width": null,
            "min_width": null,
            "border": null,
            "align_items": null,
            "bottom": null,
            "_model_module": "@jupyter-widgets/base",
            "top": null,
            "grid_column": null,
            "overflow_y": null,
            "overflow_x": null,
            "grid_auto_flow": null,
            "grid_area": null,
            "grid_template_columns": null,
            "flex": null,
            "_model_name": "LayoutModel",
            "justify_items": null,
            "grid_row": null,
            "max_height": null,
            "align_content": null,
            "visibility": null,
            "align_self": null,
            "height": null,
            "min_height": null,
            "padding": null,
            "grid_auto_rows": null,
            "grid_gap": null,
            "max_width": null,
            "order": null,
            "_view_module_version": "1.2.0",
            "grid_template_areas": null,
            "object_position": null,
            "object_fit": null,
            "grid_auto_columns": null,
            "margin": null,
            "display": null,
            "left": null
          }
        },
        "681a49034db142eea33991acb42001bf": {
          "model_module": "@jupyter-widgets/controls",
          "model_name": "DescriptionStyleModel",
          "state": {
            "_view_name": "StyleView",
            "_model_name": "DescriptionStyleModel",
            "description_width": "",
            "_view_module": "@jupyter-widgets/base",
            "_model_module_version": "1.5.0",
            "_view_count": null,
            "_view_module_version": "1.2.0",
            "_model_module": "@jupyter-widgets/controls"
          }
        },
        "af5ae5449e1f447fa77960bb85e0e982": {
          "model_module": "@jupyter-widgets/base",
          "model_name": "LayoutModel",
          "state": {
            "_view_name": "LayoutView",
            "grid_template_rows": null,
            "right": null,
            "justify_content": null,
            "_view_module": "@jupyter-widgets/base",
            "overflow": null,
            "_model_module_version": "1.2.0",
            "_view_count": null,
            "flex_flow": null,
            "width": null,
            "min_width": null,
            "border": null,
            "align_items": null,
            "bottom": null,
            "_model_module": "@jupyter-widgets/base",
            "top": null,
            "grid_column": null,
            "overflow_y": null,
            "overflow_x": null,
            "grid_auto_flow": null,
            "grid_area": null,
            "grid_template_columns": null,
            "flex": null,
            "_model_name": "LayoutModel",
            "justify_items": null,
            "grid_row": null,
            "max_height": null,
            "align_content": null,
            "visibility": null,
            "align_self": null,
            "height": null,
            "min_height": null,
            "padding": null,
            "grid_auto_rows": null,
            "grid_gap": null,
            "max_width": null,
            "order": null,
            "_view_module_version": "1.2.0",
            "grid_template_areas": null,
            "object_position": null,
            "object_fit": null,
            "grid_auto_columns": null,
            "margin": null,
            "display": null,
            "left": null
          }
        }
      }
    }
  },
  "cells": [
    {
      "cell_type": "markdown",
      "metadata": {
        "id": "view-in-github",
        "colab_type": "text"
      },
      "source": [
        "<a href=\"https://colab.research.google.com/github/SIDDXSingh/AutoEncoders/blob/main/VAE_Cifar10.ipynb\" target=\"_parent\"><img src=\"https://colab.research.google.com/assets/colab-badge.svg\" alt=\"Open In Colab\"/></a>"
      ]
    },
    {
      "cell_type": "code",
      "metadata": {
        "id": "chubby-ebony"
      },
      "source": [
        "\n",
        "import matplotlib.pyplot as plt  # for plotting images\n",
        "import numpy as np\n",
        "import torch\n",
        "import torch.nn as nn\n",
        "import torch.optim as optim\n",
        "import time\n",
        "import os\n",
        "import torchvision\n",
        "from torchvision import transforms\n",
        "from torchvision import transforms,datasets,models\n"
      ],
      "id": "chubby-ebony",
      "execution_count": 13,
      "outputs": []
    },
    {
      "cell_type": "code",
      "metadata": {
        "colab": {
          "base_uri": "https://localhost:8080/",
          "height": 49,
          "referenced_widgets": [
            "af04defc1aaa434c80df7beddc6037c1",
            "134222e345ee409a97076094cf020244",
            "75f6a32980d143b3b838a0d467f3ee90"
          ]
        },
        "id": "medium-blond",
        "outputId": "7f829209-fe3b-431b-bc7a-40d4584c7da6"
      },
      "source": [
        "import ipywidgets as widgets\n",
        "widgets.IntSlider()"
      ],
      "id": "medium-blond",
      "execution_count": 9,
      "outputs": [
        {
          "output_type": "display_data",
          "data": {
            "application/vnd.jupyter.widget-view+json": {
              "model_id": "af04defc1aaa434c80df7beddc6037c1",
              "version_minor": 0,
              "version_major": 2
            },
            "text/plain": [
              "IntSlider(value=0)"
            ]
          },
          "metadata": {
            "tags": []
          }
        }
      ]
    },
    {
      "cell_type": "code",
      "metadata": {
        "colab": {
          "base_uri": "https://localhost:8080/",
          "height": 35
        },
        "id": "labeled-framing",
        "outputId": "8bb5b3c9-851b-428e-fa18-c639a52f8c17"
      },
      "source": [
        "torch.cuda.device(0)\n",
        "torch.cuda.device_count()\n",
        "torch.cuda.get_device_name(0)"
      ],
      "id": "labeled-framing",
      "execution_count": 3,
      "outputs": [
        {
          "output_type": "execute_result",
          "data": {
            "application/vnd.google.colaboratory.intrinsic+json": {
              "type": "string"
            },
            "text/plain": [
              "'Tesla K80'"
            ]
          },
          "metadata": {
            "tags": []
          },
          "execution_count": 3
        }
      ]
    },
    {
      "cell_type": "code",
      "metadata": {
        "id": "obvious-slope"
      },
      "source": [
        "device = torch.device(\"cuda\" if torch.cuda.is_available() else 'cpu')"
      ],
      "id": "obvious-slope",
      "execution_count": 10,
      "outputs": []
    },
    {
      "cell_type": "code",
      "metadata": {
        "colab": {
          "base_uri": "https://localhost:8080/",
          "height": 99,
          "referenced_widgets": [
            "20bd03c185b948cd839205f25335feab",
            "ac7bc018d21044bb8dc8a02bed9dfc85",
            "f17baa7bdb7d4c6e9983249bc7c877c9",
            "94723cca6c664648a46ff99a4b87c4bb",
            "802aabc2c6ab4e12a6c4f8fd7679e21e",
            "3a81f81a9efa473ab7d21496e8a98341",
            "681a49034db142eea33991acb42001bf",
            "af5ae5449e1f447fa77960bb85e0e982"
          ]
        },
        "id": "M71qBYa5nYig",
        "outputId": "de61ad89-040c-4db8-e5ab-55cfca0e09bb"
      },
      "source": [
        "train_set = datasets.CIFAR10('/content/', train=True, download=True)\n",
        "test_set = datasets.CIFAR10('/content/', train=False, download=False)"
      ],
      "id": "M71qBYa5nYig",
      "execution_count": 11,
      "outputs": [
        {
          "output_type": "stream",
          "text": [
            "Downloading https://www.cs.toronto.edu/~kriz/cifar-10-python.tar.gz to /content/cifar-10-python.tar.gz\n"
          ],
          "name": "stdout"
        },
        {
          "output_type": "display_data",
          "data": {
            "application/vnd.jupyter.widget-view+json": {
              "model_id": "20bd03c185b948cd839205f25335feab",
              "version_minor": 0,
              "version_major": 2
            },
            "text/plain": [
              "HBox(children=(FloatProgress(value=0.0, max=170498071.0), HTML(value='')))"
            ]
          },
          "metadata": {
            "tags": []
          }
        },
        {
          "output_type": "stream",
          "text": [
            "\n",
            "Extracting /content/cifar-10-python.tar.gz to /content/\n"
          ],
          "name": "stdout"
        }
      ]
    },
    {
      "cell_type": "code",
      "metadata": {
        "colab": {
          "base_uri": "https://localhost:8080/"
        },
        "id": "dU_B5n4uVJ9G",
        "outputId": "41790b15-a5ad-4864-c761-27d5c28b1206"
      },
      "source": [
        "train_img = train_set.data\n",
        "test_img = test_set.data\n",
        "# rgb_batch = np.repeat(grayscale_batch[..., train_img], 3, -1)\n",
        "train_img.shape"
      ],
      "id": "dU_B5n4uVJ9G",
      "execution_count": 25,
      "outputs": [
        {
          "output_type": "execute_result",
          "data": {
            "text/plain": [
              "(50000, 32, 32, 3)"
            ]
          },
          "metadata": {
            "tags": []
          },
          "execution_count": 25
        }
      ]
    },
    {
      "cell_type": "code",
      "metadata": {
        "colab": {
          "base_uri": "https://localhost:8080/"
        },
        "id": "FqDv_jKlnYmT",
        "outputId": "069df7f3-55bd-4838-932f-a2eb88b5e65d"
      },
      "source": [
        "batch_size = 800\n",
        "train_images = torch.Tensor(train_img).to(device)\n",
        "test_images = torch.Tensor(test_img).to(device)\n",
        "train_images.shape"
      ],
      "id": "FqDv_jKlnYmT",
      "execution_count": 29,
      "outputs": [
        {
          "output_type": "execute_result",
          "data": {
            "text/plain": [
              "torch.Size([50000, 32, 32, 3])"
            ]
          },
          "metadata": {
            "tags": []
          },
          "execution_count": 29
        }
      ]
    },
    {
      "cell_type": "code",
      "metadata": {
        "id": "rolled-handy"
      },
      "source": [
        "def variational_loss(output,X_in,mean,std):\n",
        "    #loss_function = nn.MSELoss()\n",
        "    loss_function = nn.SmoothL1Loss(reduction='sum')\n",
        "    rec_loss=loss_function(output,X_in)\n",
        "\n",
        "    kl_loss= -0.5*torch.sum(1+torch.log(torch.pow(std,2)+1e-10)-torch.pow(std,2)-torch.pow(mean,2))\n",
        "    total_loss=(rec_loss+kl_loss)/(len(X_in))\n",
        "\n",
        "    return total_loss"
      ],
      "id": "rolled-handy",
      "execution_count": 30,
      "outputs": []
    },
    {
      "cell_type": "code",
      "metadata": {
        "id": "tough-moderator"
      },
      "source": [
        "class EncoderBlock(nn.Module):\n",
        "    \n",
        "    def __init__(self, in_channels, out_channels, identity_downsample=None,  stride=1):\n",
        "        \n",
        "        super(EncoderBlock, self).__init__()\n",
        "        \n",
        "        self.expansion=4\n",
        "        \n",
        "        self.conv1=nn.Conv2d(in_channels, out_channels,kernel_size=1,stride=1,padding=0)\n",
        "        \n",
        "        self.bn1=nn.BatchNorm2d(out_channels)\n",
        "        \n",
        "        self.conv2=nn.Conv2d(out_channels, out_channels,kernel_size=3,stride=stride,padding=1)\n",
        "        self.bn2=nn.BatchNorm2d(out_channels)\n",
        "        self.conv3=nn.Conv2d(out_channels, out_channels*self.expansion,kernel_size=1,stride=1,padding=0)\n",
        "        self.bn3=nn.BatchNorm2d(out_channels*self.expansion)\n",
        "        self.relu=nn.ReLU()\n",
        "        self.identity_downsample=identity_downsample\n",
        "        self.stride=stride\n",
        "        \n",
        "    def forward(self, x):\n",
        "        \n",
        "        \n",
        "        identity=x.clone()\n",
        "        \n",
        "        \n",
        "        x=self.conv1(x)\n",
        "        x=self.bn1(x)\n",
        "        x=self.relu(x)\n",
        "        x=self.conv2(x)\n",
        "        x=self.bn2(x)\n",
        "        x=self.relu(x)\n",
        "        x=self.conv3(x)\n",
        "        x=self.bn3(x)\n",
        "        x=self.relu(x)\n",
        "        \n",
        "        \n",
        "        if self.identity_downsample is not None: \n",
        "            identity=self.identity_downsample(identity)\n",
        "        x+=identity\n",
        "        x=self.relu(x)\n",
        "        \n",
        "        return x\n",
        "        \n",
        "        \n",
        "encode_block=EncoderBlock\n",
        "\n",
        "\n",
        "class DecoderBlock(nn.Module):\n",
        "    def __init__(self, in_channels, out_channels,stride=1,upsample=None,shape=None, padding=1):\n",
        "        \n",
        "        super(DecoderBlock, self).__init__()\n",
        "        \n",
        "        self.contract=4\n",
        "        self.out_channels=out_channels\n",
        "            \n",
        "        self.trans1=nn.ConvTranspose2d(in_channels, out_channels, 3, stride, padding)\n",
        "        self.bn1=nn.BatchNorm2d(out_channels)\n",
        "            \n",
        "        self.trans2=nn.ConvTranspose2d(out_channels, out_channels, 1, 1, 0)\n",
        "        self.bn2=nn.BatchNorm2d(out_channels)\n",
        "            \n",
        "        self.trans3=nn.ConvTranspose2d(out_channels, out_channels//self.contract, 1, 1, 0)\n",
        "        self.bn3=nn.BatchNorm2d(out_channels//self.contract)\n",
        "        \n",
        "        \n",
        "            \n",
        "        self.relu=nn.ReLU()\n",
        "        self.upsample = upsample\n",
        "        \n",
        "        self.stride=stride\n",
        "        \n",
        "        self.shape=shape\n",
        "               \n",
        "            \n",
        "            \n",
        "    def forward(self, x):\n",
        "        identity=x.clone()\n",
        "        #print(\"id\",x.size())\n",
        "        shape=self.shape\n",
        "        if self.shape is not None:\n",
        "            shape=[x.size()[0],self.out_channels,self.shape,self.shape]\n",
        "        \n",
        "        \n",
        "        x=self.trans1(x,shape)\n",
        "        x=self.bn1(x)\n",
        "        x=self.relu(x)\n",
        "        \n",
        "        x=self.trans2(x)\n",
        "        x=self.bn2(x)\n",
        "        x=self.relu(x)\n",
        "        \n",
        "        x=self.trans3(x)\n",
        "        #print(\"3\",x.size())\n",
        "        \n",
        "        x=self.bn3(x)\n",
        "        #print(x.size())\n",
        "        x=self.relu(x)\n",
        "        #print(x.size())\n",
        "        \n",
        "        if self.upsample is not None: \n",
        "            identity=self.upsample(identity,x.size())\n",
        "            identity=self.bn3(identity)\n",
        "            \n",
        "        #print(\"id\",identity.size())\n",
        "        #print(\"x+\",x.size())\n",
        "        x+=identity\n",
        "        x=self.relu(x)\n",
        "        \n",
        "        \n",
        "        return x\n",
        "    \n",
        "decode_block=DecoderBlock\n",
        "\n"
      ],
      "id": "tough-moderator",
      "execution_count": 32,
      "outputs": []
    },
    {
      "cell_type": "code",
      "metadata": {
        "id": "deluxe-basics"
      },
      "source": [
        "class ResNet(nn.Module):\n",
        "    def __init__(self, encode_block,layers,decode_block,decode_layers, img_channels, num_class):\n",
        "        \n",
        "        super(ResNet, self).__init__()\n",
        "        \n",
        "        self.in_channels=16\n",
        "        \n",
        "        self.layer= nn.Sequential(nn.Conv2d(img_channels, 16, kernel_size=3, stride=1, padding=1, bias=False),\n",
        "                                  nn.BatchNorm2d(16),\n",
        "                                  nn.ReLU(),\n",
        "        )\n",
        "        \n",
        "        \n",
        "        \n",
        "        self.layer1 = self.make_layer(\n",
        "            encode_block, layers[0], out_channels=16, stride=1\n",
        "        )\n",
        "        self.layer2 = self.make_layer(\n",
        "            encode_block, layers[1], out_channels=32, stride=2\n",
        "        )\n",
        "        self.layer3 = self.make_layer(\n",
        "            encode_block, layers[2], out_channels=64, stride=2\n",
        "        )\n",
        "\n",
        "        self.avgpool = nn.AdaptiveAvgPool2d((1, 1))\n",
        "        self.fc = nn.Flatten()\n",
        "        \n",
        "        \n",
        "        \n",
        "        self.decode_in_channels=128\n",
        "        self.decode_padding=1\n",
        "\n",
        "        \n",
        "        self.trans_layer1 = self.make_trans_layer(\n",
        "            decode_block, decode_layers[0], out_channels=128, shape=2, stride=2\n",
        "        )\n",
        "        self.trans_layer2 = self.make_trans_layer(\n",
        "            decode_block, decode_layers[1], out_channels=128, shape=4, stride=2\n",
        "        )\n",
        "            \n",
        "        self.trans_layer3 = self.make_trans_layer(\n",
        "            decode_block, decode_layers[2], out_channels=64, shape=8, stride=2        \n",
        "        )\n",
        "        self.trans_layer4 = self.make_trans_layer(\n",
        "            decode_block, decode_layers[3], out_channels=16, shape=16, stride=2\n",
        "        )\n",
        "        self.trans_layer5 = self.make_trans_layer(\n",
        "            decode_block, decode_layers[4], out_channels=12, shape=32, stride=2\n",
        "        )\n",
        "        \n",
        "    def forward(self, x):\n",
        "        \n",
        "        x=self.layer(x)\n",
        "        x=self.layer1(x)\n",
        "        x=self.layer2(x)\n",
        "        x=self.layer3(x)\n",
        "        x=self.avgpool(x)\n",
        "        latent = self.fc(x)\n",
        "\n",
        "        mean,std=torch.chunk(latent,2,dim=1)\n",
        "        sample = mean + torch.randn_like(std)*std\n",
        "        x=sample.view(sample.shape[0],128,1,1)\n",
        "        \n",
        "        \n",
        "        \n",
        "        x=self.trans_layer1(x)\n",
        "        x=self.trans_layer2(x)\n",
        "        x=self.trans_layer3(x) \n",
        "        x=self.trans_layer4(x)\n",
        "        x=self.trans_layer5(x)\n",
        "        \n",
        "        return x,mean, std\n",
        "    \n",
        "    def make_layer(self, encode_block, blocks, out_channels,stride=1):\n",
        "        \n",
        "        downsample = None\n",
        "        layers = []\n",
        "        \n",
        "        if stride != 1 or self.in_channels != out_channels * 4:\n",
        "            downsample = nn.Sequential(\n",
        "                nn.Conv2d(\n",
        "                    self.in_channels,\n",
        "                    out_channels * 4,\n",
        "                    kernel_size=1,\n",
        "                    stride=stride,\n",
        "                    bias=False,\n",
        "                    \n",
        "                ),nn.BatchNorm2d(out_channels * 4),)\n",
        "            \n",
        "  \n",
        "        layers.append(encode_block(self.in_channels, out_channels, downsample, stride)\n",
        "                     )\n",
        "        \n",
        "        \n",
        "        self.in_channels = out_channels*4\n",
        "        \n",
        "        for i in range(1, blocks):\n",
        "            layers.append(encode_block(self.in_channels, out_channels))\n",
        "        return nn.Sequential(*layers)\n",
        "    \n",
        "    \n",
        "    \n",
        "    def make_trans_layer(self, decode_block, blocks, out_channels, shape=None, stride=1):\n",
        "        \n",
        "        upsample = None\n",
        "        layers = []\n",
        "        \n",
        "        if stride != 1 or self.in_channels != out_channels/4:\n",
        "            \n",
        "            upsample = nn.ConvTranspose2d(self.decode_in_channels, out_channels//4,kernel_size=3,stride=2,bias=False,padding=1)\n",
        "                                   \n",
        "                                   \n",
        "                                   \n",
        "        layers.append(decode_block(self.decode_in_channels, out_channels, stride, upsample, shape,padding=self.decode_padding)\n",
        "                     )\n",
        "        \n",
        "        \n",
        "        self.decode_in_channels= out_channels//4\n",
        "        \n",
        "        for i in range(1, blocks):\n",
        "            layers.append(decode_block(in_channels=self.decode_in_channels, out_channels=out_channels))\n",
        "    \n",
        "        return nn.Sequential(*layers)\n",
        "    \n",
        "    \n",
        "    "
      ],
      "id": "deluxe-basics",
      "execution_count": 22,
      "outputs": []
    },
    {
      "cell_type": "code",
      "metadata": {
        "id": "TU0s-X3M-oI6"
      },
      "source": [
        "net=Resnet(encode_block,layers[2,2,3],decode_block,decode_layers[1,1,2,3,1], img_channels, num_class)"
      ],
      "id": "TU0s-X3M-oI6",
      "execution_count": null,
      "outputs": []
    },
    {
      "cell_type": "code",
      "metadata": {
        "id": "0UfnTsbanYqN"
      },
      "source": [
        "def train(X):\n",
        "    loss_list=[]\n",
        "    for epoch in range(0,30):\n",
        "        cost = 0\n",
        "#         batch = torch.from_numpy(np.arange(0,X.shape[0],dtype=\"int64\"))\n",
        "#If you would like to check with arange instead of randperm, then uncomment above and comment below lines respectively\n",
        "        batch=torch.randperm(X.shape[0]).to(device)\n",
        "        for i in range(0, X.shape[0],batch_size):\n",
        "            output,mean,std = net(X[batch[i:i+batch_size]].to(device))\n",
        "            optimiser.zero_grad()\n",
        "#             rev_fc=nn.ConvTranspose2d(3,1,2,1,0)\n",
        "#             X=rev_fc(X)\n",
        "            loss=variational_loss(output,X[batch[i:i+batch_size]],mean,std)\n",
        "            cost = cost+loss.item() \n",
        "            loss.backward()\n",
        "            optimiser.step()\n",
        "        loss_avg = cost / X.shape[0]\n",
        "        loss_list.append(loss_avg)\n",
        "        print(\"For iteration: \", epoch+1, \" the loss is :\", loss_avg)\n",
        "#         a=mean.detach().numpy()\n",
        "#         plt.scatter(a[:,0],a[:,1])\n",
        "#         break\n",
        "    return loss_list"
      ],
      "id": "0UfnTsbanYqN",
      "execution_count": 47,
      "outputs": []
    },
    {
      "cell_type": "code",
      "metadata": {
        "colab": {
          "base_uri": "https://localhost:8080/"
        },
        "id": "zwnFBc-jnYr4",
        "outputId": "7058039e-12c3-45a4-c0ab-5406227480db"
      },
      "source": [
        "import matplotlib.pyplot as plt\n",
        "train_loss= train(train_images)"
      ],
      "id": "zwnFBc-jnYr4",
      "execution_count": 48,
      "outputs": [
        {
          "output_type": "stream",
          "text": [
            "For iteration:  1  the loss is : 31.701299772135417\n",
            "For iteration:  2  the loss is : 29.695148958333334\n",
            "For iteration:  3  the loss is : 26.617959212239583\n",
            "For iteration:  4  the loss is : 23.14132578125\n",
            "For iteration:  5  the loss is : 18.919881412760418\n",
            "For iteration:  6  the loss is : 15.684452604166667\n",
            "For iteration:  7  the loss is : 13.799386897786459\n",
            "For iteration:  8  the loss is : 12.422375732421875\n",
            "For iteration:  9  the loss is : 11.652181803385417\n",
            "For iteration:  10  the loss is : 11.000134488932291\n",
            "For iteration:  11  the loss is : 10.485663639322917\n",
            "For iteration:  12  the loss is : 10.128274527994792\n",
            "For iteration:  13  the loss is : 9.63779930826823\n",
            "For iteration:  14  the loss is : 9.235406233723959\n",
            "For iteration:  15  the loss is : 9.070259993489584\n",
            "For iteration:  16  the loss is : 8.733098583984376\n",
            "For iteration:  17  the loss is : 8.442208846028645\n",
            "For iteration:  18  the loss is : 8.255837825520834\n",
            "For iteration:  19  the loss is : 8.08051162923177\n",
            "For iteration:  20  the loss is : 8.109150358072917\n",
            "For iteration:  21  the loss is : 7.9144860514322914\n",
            "For iteration:  22  the loss is : 7.77885390625\n",
            "For iteration:  23  the loss is : 7.734583081054687\n",
            "For iteration:  24  the loss is : 7.696850284830729\n",
            "For iteration:  25  the loss is : 7.592644498697917\n",
            "For iteration:  26  the loss is : 7.530186027018229\n",
            "For iteration:  27  the loss is : 7.497911653645834\n",
            "For iteration:  28  the loss is : 7.359220133463542\n",
            "For iteration:  29  the loss is : 7.215891194661459\n",
            "For iteration:  30  the loss is : 7.233249674479167\n"
          ],
          "name": "stdout"
        }
      ]
    },
    {
      "cell_type": "code",
      "metadata": {
        "colab": {
          "base_uri": "https://localhost:8080/",
          "height": 279
        },
        "id": "gQOkH-k9wCT4",
        "outputId": "776fe5cb-e19d-40ca-cc45-acd278291a79"
      },
      "source": [
        "plt.plot(train_loss)\n",
        "plt.ylabel('cost')\n",
        "plt.xlabel('epoch')\n",
        "plt.show()"
      ],
      "id": "gQOkH-k9wCT4",
      "execution_count": 49,
      "outputs": [
        {
          "output_type": "display_data",
          "data": {
            "image/png": "[encoded data removed]",
            "text/plain": [
              "<Figure size 432x288 with 1 Axes>"
            ]
          },
          "metadata": {
            "tags": [],
            "needs_background": "light"
          }
        }
      ]
    },
    {
      "cell_type": "code",
      "metadata": {
        "id": "9f60mJ5CnYwQ"
      },
      "source": [
        "def test(X):\n",
        "    with torch.no_grad():\n",
        "        cost=0\n",
        "        batch=torch.randperm(X.shape[0])\n",
        "        for i in range(0, X.shape[0],batch_size):\n",
        "            output,mean,std=net(X[batch[i:i+batch_size]])\n",
        "            loss=variational_loss(output,X[batch[i:i+batch_size]],mean,std)\n",
        "            cost=cost+loss.item()\n",
        "        print(cost/X.shape[0])\n",
        "test(test_images)"
      ],
      "id": "9f60mJ5CnYwQ",
      "execution_count": null,
      "outputs": []
    },
    {
      "cell_type": "code",
      "metadata": {
        "id": "mjc77q4gnZ5F"
      },
      "source": [
        "print(\"MNIST Image\")\n",
        "fig, axes = plt.subplots(1,2)\n",
        "axes[0].imshow(test_img[3],cmap=\"gray\")\n",
        "axes[1].imshow(test_img[4],cmap=\"gray\")\n",
        "\n",
        "plt.show()\n",
        "\n",
        "print(\"Image through Variational AutoEncoder\")\n",
        "# print(test_images[1:45].shape)\n",
        "output=net(test_images[:5])\n",
        "output_img=((output[0].to(torch.device('cpu'))).detach().numpy()).reshape(5,28,28)\n",
        "\n",
        "fig, axes = plt.subplots(1,2)\n",
        "axes[0].imshow(output_img[3],cmap=\"gray\")\n",
        "axes[1].imshow(output_img[4],cmap=\"gray\")\n",
        "plt.show()"
      ],
      "id": "mjc77q4gnZ5F",
      "execution_count": null,
      "outputs": []
    },
    {
      "cell_type": "code",
      "metadata": {
        "id": "O_VSYgMKcXfG"
      },
      "source": [
        ""
      ],
      "id": "O_VSYgMKcXfG",
      "execution_count": null,
      "outputs": []
    },
    {
      "cell_type": "code",
      "metadata": {
        "id": "modern-footwear"
      },
      "source": [
        "optimiser = optim.Adam(net.parameters(), lr=0.09)\n",
        "net=net.to(device)"
      ],
      "id": "modern-footwear",
      "execution_count": 46,
      "outputs": []
    },
    {
      "cell_type": "code",
      "metadata": {
        "id": "zk1tQ3VD42OM"
      },
      "source": [
        "def test(X):\n",
        "  with torch.no_grad():\n",
        "      cost=0\n",
        "      running_loss=0\n",
        "      for i,data in enumerate (X):\n",
        "        X,Y=data\n",
        "        X=X.to(device)\n",
        "        output,mean,std=net.forward(X)\n",
        "        output=output.to(device)\n",
        "        loss=variational_loss(output,X,mean,std)\n",
        "        running_loss += loss.item()\n",
        "        cost=cost+running_loss\n",
        "      print(\"Test Loss:\",cost/len(X))"
      ],
      "id": "zk1tQ3VD42OM",
      "execution_count": 54,
      "outputs": []
    }
  ]
}