{
  "nbformat": 4,
  "nbformat_minor": 5,
  "metadata": {
    "kernelspec": {
      "display_name": "Python 3",
      "language": "python",
      "name": "python3"
    },
    "language_info": {
      "codemirror_mode": {
        "name": "ipython",
        "version": 3
      },
      "file_extension": ".py",
      "mimetype": "text/x-python",
      "name": "python",
      "nbconvert_exporter": "python",
      "pygments_lexer": "ipython3",
      "version": "3.7.6"
    },
    "colab": {
      "name": "VAE_Cifar10.ipynb",
      "provenance": [],
      "collapsed_sections": [],
      "include_colab_link": true
    },
    "widgets": {
      "application/vnd.jupyter.widget-state+json": {
        "f95c1f77da9c4973be8babcb8fdbdb97": {
          "model_module": "@jupyter-widgets/controls",
          "model_name": "IntSliderModel",
          "state": {
            "_view_name": "IntSliderView",
            "style": "IPY_MODEL_d83de36408c7400ba947d6c5f9e93466",
            "_dom_classes": [],
            "description": "",
            "step": 1,
            "_model_name": "IntSliderModel",
            "orientation": "horizontal",
            "max": 100,
            "_view_module": "@jupyter-widgets/controls",
            "_model_module_version": "1.5.0",
            "value": 100,
            "_view_count": null,
            "disabled": false,
            "_view_module_version": "1.5.0",
            "min": 0,
            "continuous_update": true,
            "readout_format": "d",
            "description_tooltip": null,
            "readout": true,
            "_model_module": "@jupyter-widgets/controls",
            "layout": "IPY_MODEL_e4ac6bc3c02247da9f0de4a228e1fbd1"
          }
        },
        "d83de36408c7400ba947d6c5f9e93466": {
          "model_module": "@jupyter-widgets/controls",
          "model_name": "SliderStyleModel",
          "state": {
            "_view_name": "StyleView",
            "handle_color": null,
            "_model_name": "SliderStyleModel",
            "description_width": "",
            "_view_module": "@jupyter-widgets/base",
            "_model_module_version": "1.5.0",
            "_view_count": null,
            "_view_module_version": "1.2.0",
            "_model_module": "@jupyter-widgets/controls"
          }
        },
        "e4ac6bc3c02247da9f0de4a228e1fbd1": {
          "model_module": "@jupyter-widgets/base",
          "model_name": "LayoutModel",
          "state": {
            "_view_name": "LayoutView",
            "grid_template_rows": null,
            "right": null,
            "justify_content": null,
            "_view_module": "@jupyter-widgets/base",
            "overflow": null,
            "_model_module_version": "1.2.0",
            "_view_count": null,
            "flex_flow": null,
            "width": null,
            "min_width": null,
            "border": null,
            "align_items": null,
            "bottom": null,
            "_model_module": "@jupyter-widgets/base",
            "top": null,
            "grid_column": null,
            "overflow_y": null,
            "overflow_x": null,
            "grid_auto_flow": null,
            "grid_area": null,
            "grid_template_columns": null,
            "flex": null,
            "_model_name": "LayoutModel",
            "justify_items": null,
            "grid_row": null,
            "max_height": null,
            "align_content": null,
            "visibility": null,
            "align_self": null,
            "height": null,
            "min_height": null,
            "padding": null,
            "grid_auto_rows": null,
            "grid_gap": null,
            "max_width": null,
            "order": null,
            "_view_module_version": "1.2.0",
            "grid_template_areas": null,
            "object_position": null,
            "object_fit": null,
            "grid_auto_columns": null,
            "margin": null,
            "display": null,
            "left": null
          }
        },
        "946a15d60e6f46c9b6af05eda5a65786": {
          "model_module": "@jupyter-widgets/controls",
          "model_name": "HBoxModel",
          "state": {
            "_view_name": "HBoxView",
            "_dom_classes": [],
            "_model_name": "HBoxModel",
            "_view_module": "@jupyter-widgets/controls",
            "_model_module_version": "1.5.0",
            "_view_count": null,
            "_view_module_version": "1.5.0",
            "box_style": "",
            "layout": "IPY_MODEL_14c404654e034a09b99e0be4956032b7",
            "_model_module": "@jupyter-widgets/controls",
            "children": [
              "IPY_MODEL_9e803a7f92c34d5daaae75b5b5ab5719",
              "IPY_MODEL_4a2a77d1d9d345c58ade4661c8b63fcb"
            ]
          }
        },
        "14c404654e034a09b99e0be4956032b7": {
          "model_module": "@jupyter-widgets/base",
          "model_name": "LayoutModel",
          "state": {
            "_view_name": "LayoutView",
            "grid_template_rows": null,
            "right": null,
            "justify_content": null,
            "_view_module": "@jupyter-widgets/base",
            "overflow": null,
            "_model_module_version": "1.2.0",
            "_view_count": null,
            "flex_flow": null,
            "width": null,
            "min_width": null,
            "border": null,
            "align_items": null,
            "bottom": null,
            "_model_module": "@jupyter-widgets/base",
            "top": null,
            "grid_column": null,
            "overflow_y": null,
            "overflow_x": null,
            "grid_auto_flow": null,
            "grid_area": null,
            "grid_template_columns": null,
            "flex": null,
            "_model_name": "LayoutModel",
            "justify_items": null,
            "grid_row": null,
            "max_height": null,
            "align_content": null,
            "visibility": null,
            "align_self": null,
            "height": null,
            "min_height": null,
            "padding": null,
            "grid_auto_rows": null,
            "grid_gap": null,
            "max_width": null,
            "order": null,
            "_view_module_version": "1.2.0",
            "grid_template_areas": null,
            "object_position": null,
            "object_fit": null,
            "grid_auto_columns": null,
            "margin": null,
            "display": null,
            "left": null
          }
        },
        "9e803a7f92c34d5daaae75b5b5ab5719": {
          "model_module": "@jupyter-widgets/controls",
          "model_name": "FloatProgressModel",
          "state": {
            "_view_name": "ProgressView",
            "style": "IPY_MODEL_f35bd69c67f94cb2a3289a41420c5b1a",
            "_dom_classes": [],
            "description": "",
            "_model_name": "FloatProgressModel",
            "bar_style": "success",
            "max": 170498071,
            "_view_module": "@jupyter-widgets/controls",
            "_model_module_version": "1.5.0",
            "value": 170498071,
            "_view_count": null,
            "_view_module_version": "1.5.0",
            "orientation": "horizontal",
            "min": 0,
            "description_tooltip": null,
            "_model_module": "@jupyter-widgets/controls",
            "layout": "IPY_MODEL_445a6ce62d4d4a4cac07267b3ffb1f46"
          }
        },
        "4a2a77d1d9d345c58ade4661c8b63fcb": {
          "model_module": "@jupyter-widgets/controls",
          "model_name": "HTMLModel",
          "state": {
            "_view_name": "HTMLView",
            "style": "IPY_MODEL_86f11439cf2147ec884a36cfcb9e47a9",
            "_dom_classes": [],
            "description": "",
            "_model_name": "HTMLModel",
            "placeholder": "​",
            "_view_module": "@jupyter-widgets/controls",
            "_model_module_version": "1.5.0",
            "value": " 170499072/? [4:44:47&lt;00:00, 9977.92it/s]",
            "_view_count": null,
            "_view_module_version": "1.5.0",
            "description_tooltip": null,
            "_model_module": "@jupyter-widgets/controls",
            "layout": "IPY_MODEL_e7cfed91cc2b4d64ad90570e274a6be3"
          }
        },
        "f35bd69c67f94cb2a3289a41420c5b1a": {
          "model_module": "@jupyter-widgets/controls",
          "model_name": "ProgressStyleModel",
          "state": {
            "_view_name": "StyleView",
            "_model_name": "ProgressStyleModel",
            "description_width": "initial",
            "_view_module": "@jupyter-widgets/base",
            "_model_module_version": "1.5.0",
            "_view_count": null,
            "_view_module_version": "1.2.0",
            "bar_color": null,
            "_model_module": "@jupyter-widgets/controls"
          }
        },
        "445a6ce62d4d4a4cac07267b3ffb1f46": {
          "model_module": "@jupyter-widgets/base",
          "model_name": "LayoutModel",
          "state": {
            "_view_name": "LayoutView",
            "grid_template_rows": null,
            "right": null,
            "justify_content": null,
            "_view_module": "@jupyter-widgets/base",
            "overflow": null,
            "_model_module_version": "1.2.0",
            "_view_count": null,
            "flex_flow": null,
            "width": null,
            "min_width": null,
            "border": null,
            "align_items": null,
            "bottom": null,
            "_model_module": "@jupyter-widgets/base",
            "top": null,
            "grid_column": null,
            "overflow_y": null,
            "overflow_x": null,
            "grid_auto_flow": null,
            "grid_area": null,
            "grid_template_columns": null,
            "flex": null,
            "_model_name": "LayoutModel",
            "justify_items": null,
            "grid_row": null,
            "max_height": null,
            "align_content": null,
            "visibility": null,
            "align_self": null,
            "height": null,
            "min_height": null,
            "padding": null,
            "grid_auto_rows": null,
            "grid_gap": null,
            "max_width": null,
            "order": null,
            "_view_module_version": "1.2.0",
            "grid_template_areas": null,
            "object_position": null,
            "object_fit": null,
            "grid_auto_columns": null,
            "margin": null,
            "display": null,
            "left": null
          }
        },
        "86f11439cf2147ec884a36cfcb9e47a9": {
          "model_module": "@jupyter-widgets/controls",
          "model_name": "DescriptionStyleModel",
          "state": {
            "_view_name": "StyleView",
            "_model_name": "DescriptionStyleModel",
            "description_width": "",
            "_view_module": "@jupyter-widgets/base",
            "_model_module_version": "1.5.0",
            "_view_count": null,
            "_view_module_version": "1.2.0",
            "_model_module": "@jupyter-widgets/controls"
          }
        },
        "e7cfed91cc2b4d64ad90570e274a6be3": {
          "model_module": "@jupyter-widgets/base",
          "model_name": "LayoutModel",
          "state": {
            "_view_name": "LayoutView",
            "grid_template_rows": null,
            "right": null,
            "justify_content": null,
            "_view_module": "@jupyter-widgets/base",
            "overflow": null,
            "_model_module_version": "1.2.0",
            "_view_count": null,
            "flex_flow": null,
            "width": null,
            "min_width": null,
            "border": null,
            "align_items": null,
            "bottom": null,
            "_model_module": "@jupyter-widgets/base",
            "top": null,
            "grid_column": null,
            "overflow_y": null,
            "overflow_x": null,
            "grid_auto_flow": null,
            "grid_area": null,
            "grid_template_columns": null,
            "flex": null,
            "_model_name": "LayoutModel",
            "justify_items": null,
            "grid_row": null,
            "max_height": null,
            "align_content": null,
            "visibility": null,
            "align_self": null,
            "height": null,
            "min_height": null,
            "padding": null,
            "grid_auto_rows": null,
            "grid_gap": null,
            "max_width": null,
            "order": null,
            "_view_module_version": "1.2.0",
            "grid_template_areas": null,
            "object_position": null,
            "object_fit": null,
            "grid_auto_columns": null,
            "margin": null,
            "display": null,
            "left": null
          }
        }
      }
    },
    "accelerator": "GPU"
  },
  "cells": [
    {
      "cell_type": "markdown",
      "metadata": {
        "id": "view-in-github",
        "colab_type": "text"
      },
      "source": [
        "<a href=\"https://colab.research.google.com/github/SIDDXSingh/AutoEncoders/blob/main/VAE_Cifar10.ipynb\" target=\"_parent\"><img src=\"https://colab.research.google.com/assets/colab-badge.svg\" alt=\"Open In Colab\"/></a>"
      ]
    },
    {
      "cell_type": "code",
      "metadata": {
        "id": "chubby-ebony"
      },
      "source": [
        "import matplotlib.pyplot as plt  # for plotting images\n",
        "import numpy as np\n",
        "import torch\n",
        "import torch.nn as nn\n",
        "import torch.optim as optim\n",
        "import time\n",
        "import os\n",
        "import torchvision\n",
        "from torchvision import transforms\n",
        "from torchvision import transforms,datasets,models"
      ],
      "id": "chubby-ebony",
      "execution_count": null,
      "outputs": []
    },
    {
      "cell_type": "code",
      "metadata": {
        "colab": {
          "base_uri": "https://localhost:8080/",
          "height": 49,
          "referenced_widgets": [
            "f95c1f77da9c4973be8babcb8fdbdb97",
            "d83de36408c7400ba947d6c5f9e93466",
            "e4ac6bc3c02247da9f0de4a228e1fbd1"
          ]
        },
        "id": "medium-blond",
        "outputId": "389c536a-5142-4d0d-8b9c-75d2285f659f"
      },
      "source": [
        "import ipywidgets as widgets\n",
        "widgets.IntSlider()"
      ],
      "id": "medium-blond",
      "execution_count": null,
      "outputs": [
        {
          "output_type": "display_data",
          "data": {
            "application/vnd.jupyter.widget-view+json": {
              "model_id": "f95c1f77da9c4973be8babcb8fdbdb97",
              "version_minor": 0,
              "version_major": 2
            },
            "text/plain": [
              "IntSlider(value=0)"
            ]
          },
          "metadata": {
            "tags": []
          }
        }
      ]
    },
    {
      "cell_type": "code",
      "metadata": {
        "id": "labeled-framing",
        "colab": {
          "base_uri": "https://localhost:8080/",
          "height": 35
        },
        "outputId": "ce11a3e7-aca6-4185-9093-eede680272c1"
      },
      "source": [
        "torch.cuda.device(0)\n",
        "torch.cuda.device_count()\n",
        "torch.cuda.get_device_name(0)"
      ],
      "id": "labeled-framing",
      "execution_count": null,
      "outputs": [
        {
          "output_type": "execute_result",
          "data": {
            "application/vnd.google.colaboratory.intrinsic+json": {
              "type": "string"
            },
            "text/plain": [
              "'Tesla T4'"
            ]
          },
          "metadata": {
            "tags": []
          },
          "execution_count": 4
        }
      ]
    },
    {
      "cell_type": "code",
      "metadata": {
        "id": "obvious-slope"
      },
      "source": [
        "device = torch.device(\"cuda\" if torch.cuda.is_available() else 'cpu')"
      ],
      "id": "obvious-slope",
      "execution_count": null,
      "outputs": []
    },
    {
      "cell_type": "code",
      "metadata": {
        "id": "M71qBYa5nYig",
        "colab": {
          "base_uri": "https://localhost:8080/",
          "height": 99,
          "referenced_widgets": [
            "946a15d60e6f46c9b6af05eda5a65786",
            "14c404654e034a09b99e0be4956032b7",
            "9e803a7f92c34d5daaae75b5b5ab5719",
            "4a2a77d1d9d345c58ade4661c8b63fcb",
            "f35bd69c67f94cb2a3289a41420c5b1a",
            "445a6ce62d4d4a4cac07267b3ffb1f46",
            "86f11439cf2147ec884a36cfcb9e47a9",
            "e7cfed91cc2b4d64ad90570e274a6be3"
          ]
        },
        "outputId": "a4e6e753-69ac-48a6-f039-13e6edd48e58"
      },
      "source": [
        "train_set = datasets.CIFAR10('/content/', train=True, download=True)\n",
        "test_set = datasets.CIFAR10('/content/', train=False, download=False)"
      ],
      "id": "M71qBYa5nYig",
      "execution_count": null,
      "outputs": [
        {
          "output_type": "stream",
          "text": [
            "Downloading https://www.cs.toronto.edu/~kriz/cifar-10-python.tar.gz to /content/cifar-10-python.tar.gz\n"
          ],
          "name": "stdout"
        },
        {
          "output_type": "display_data",
          "data": {
            "application/vnd.jupyter.widget-view+json": {
              "model_id": "946a15d60e6f46c9b6af05eda5a65786",
              "version_minor": 0,
              "version_major": 2
            },
            "text/plain": [
              "HBox(children=(FloatProgress(value=0.0, max=170498071.0), HTML(value='')))"
            ]
          },
          "metadata": {
            "tags": []
          }
        },
        {
          "output_type": "stream",
          "text": [
            "\n",
            "Extracting /content/cifar-10-python.tar.gz to /content/\n"
          ],
          "name": "stdout"
        }
      ]
    },
    {
      "cell_type": "code",
      "metadata": {
        "colab": {
          "base_uri": "https://localhost:8080/"
        },
        "id": "dU_B5n4uVJ9G",
        "outputId": "e2a7c2eb-e886-4136-dd23-86917e285673"
      },
      "source": [
        "train_img = train_set.data\n",
        "test_img = test_set.data\n",
        "# rgb_batch = np.repeat(grayscale_batch[..., train_img], 3, -1)\n",
        "train_img.shape"
      ],
      "id": "dU_B5n4uVJ9G",
      "execution_count": null,
      "outputs": [
        {
          "output_type": "execute_result",
          "data": {
            "text/plain": [
              "(50000, 32, 32, 3)"
            ]
          },
          "metadata": {
            "tags": []
          },
          "execution_count": 7
        }
      ]
    },
    {
      "cell_type": "code",
      "metadata": {
        "colab": {
          "base_uri": "https://localhost:8080/"
        },
        "id": "FqDv_jKlnYmT",
        "outputId": "a83365cb-d51a-4c37-a8a8-b1edacb7175a"
      },
      "source": [
        "\n",
        "batch_size = 500\n",
        "train_images = torch.Tensor(train_img).permute(0,3,1,2)\n",
        "test_images = torch.Tensor(test_img).permute(0,3,1,2)\n",
        "train_images.shape\n"
      ],
      "id": "FqDv_jKlnYmT",
      "execution_count": null,
      "outputs": [
        {
          "output_type": "execute_result",
          "data": {
            "text/plain": [
              "torch.Size([50000, 3, 32, 32])"
            ]
          },
          "metadata": {
            "tags": []
          },
          "execution_count": 8
        }
      ]
    },
    {
      "cell_type": "code",
      "metadata": {
        "id": "rolled-handy"
      },
      "source": [
        "def variational_loss(output,X_in,mean,std):\n",
        "    loss_function = nn.MSELoss()\n",
        "    #loss_function = nn.SmoothL1Loss(reduction='sum')\n",
        "    rec_loss=loss_function(output,X_in)\n",
        "\n",
        "    kl_loss= -(0.5/len(X_in))*torch.sum(1+torch.log(torch.pow(std,2)+1e-10)-torch.pow(std,2)-torch.pow(mean,2))\n",
        "    total_loss=rec_loss+kl_loss\n",
        "\n",
        "    return total_loss"
      ],
      "id": "rolled-handy",
      "execution_count": null,
      "outputs": []
    },
    {
      "cell_type": "code",
      "metadata": {
        "id": "tough-moderator"
      },
      "source": [
        "class EncoderBlock(nn.Module):\n",
        "    \n",
        "    def __init__(self, in_channels, out_channels, identity_downsample=None,  stride=1):\n",
        "        \n",
        "        super(EncoderBlock, self).__init__()\n",
        "        \n",
        "        self.expansion=4\n",
        "        \n",
        "        self.conv1=nn.Conv2d(in_channels, out_channels,kernel_size=3,stride=1,padding=1)\n",
        "        self.bn1=nn.BatchNorm2d(out_channels)\n",
        "        \n",
        "        self.conv2=nn.Conv2d(out_channels, out_channels,kernel_size=3,stride=stride,padding=1)\n",
        "        self.bn2=nn.BatchNorm2d(out_channels)\n",
        "\n",
        "\n",
        "        self.relu=nn.ReLU()\n",
        "        self.identity_downsample=identity_downsample\n",
        "        self.stride=stride\n",
        "        \n",
        "\n",
        "    def forward(self, x):\n",
        "        \n",
        "        \n",
        "        identity=x.clone()\n",
        "        \n",
        "        \n",
        "        x=self.conv1(x)\n",
        "        x=self.bn1(x)\n",
        "        x=self.relu(x)\n",
        "        x=self.conv2(x)\n",
        "        x=self.bn2(x)\n",
        "        x=self.relu(x)\n",
        "        \n",
        "        \n",
        "        if self.identity_downsample is not None: \n",
        "            identity=self.identity_downsample(identity)\n",
        "        x+=identity\n",
        "        x=self.relu(x)\n",
        "        \n",
        "        return x\n",
        "        \n",
        "        \n",
        "encode_block=EncoderBlock\n",
        "\n",
        "\n",
        "class DecoderBlock(nn.Module):\n",
        "    def __init__(self, in_channels, out_channels,stride=1,upsample=None,shape=None, padding=1):\n",
        "        \n",
        "        super(DecoderBlock, self).__init__()\n",
        "        \n",
        "        self.contract=4\n",
        "        self.out_channels=out_channels\n",
        "            \n",
        "        self.trans1=nn.ConvTranspose2d(in_channels, out_channels, 3, 1, 1)\n",
        "        self.bn1=nn.BatchNorm2d(out_channels)\n",
        "            \n",
        "        self.trans2=nn.ConvTranspose2d(out_channels, out_channels, 3, stride, padding)\n",
        "        self.bn2=nn.BatchNorm2d(out_channels)\n",
        "        \n",
        "            \n",
        "        self.relu=nn.ReLU()\n",
        "        self.upsample = upsample\n",
        "        \n",
        "        self.stride=stride\n",
        "        \n",
        "        self.shape=shape\n",
        "               \n",
        "            \n",
        "            \n",
        "    def forward(self, x):\n",
        "        identity=x.clone()\n",
        "        #print(\"id\",x.size())\n",
        "        shape=self.shape\n",
        "        if self.shape is not None:\n",
        "            shape=[x.size()[0],self.out_channels,self.shape,self.shape]\n",
        "        \n",
        "        \n",
        "        x=self.trans1(x)\n",
        "        x=self.bn1(x)\n",
        "        x=self.relu(x)\n",
        "        \n",
        "        x=self.trans2(x,shape)\n",
        "        x=self.bn2(x)\n",
        "        x=self.relu(x)\n",
        "        \n",
        "        if self.upsample is not None: \n",
        "            identity=self.upsample(identity,x.size())\n",
        "            identity=self.bn2(identity)\n",
        "            \n",
        "        #print(\"id\",identity.size())\n",
        "        x+=identity\n",
        "        x=self.relu(x)\n",
        "        \n",
        "        \n",
        "        return x\n",
        "    \n",
        "decode_block=DecoderBlock\n",
        "\n"
      ],
      "id": "tough-moderator",
      "execution_count": null,
      "outputs": []
    },
    {
      "cell_type": "code",
      "metadata": {
        "id": "deluxe-basics"
      },
      "source": [
        "class ResNet(nn.Module):\n",
        "    def __init__(self, encode_block,layers,decode_block,decode_layers, img_channels, num_class):\n",
        "        super(ResNet, self).__init__()\n",
        "        \n",
        "        self.in_channels=16\n",
        "        \n",
        "        self.layer= nn.Sequential(nn.Conv2d(img_channels, 16, kernel_size=3, stride=2, padding=1, bias=False),\n",
        "                                  nn.BatchNorm2d(16),\n",
        "                                  nn.ReLU(),\n",
        "        )\n",
        "        \n",
        "        \n",
        "        \n",
        "        self.layer1 = self.make_layer(\n",
        "            encode_block, layers[0], out_channels=64, stride=1\n",
        "        )\n",
        "        self.layer2 = self.make_layer(\n",
        "            encode_block, layers[1], out_channels=256, stride=2\n",
        "        )\n",
        "\n",
        "        self.layer3 = self.make_layer(\n",
        "            encode_block, layers[2], out_channels=512, stride=2\n",
        "        )\n",
        "\n",
        "        self.layer4 = self.make_layer(\n",
        "            encode_block, layers[3], out_channels=2048, stride=2\n",
        "        )\n",
        "\n",
        "        self.avgpool = nn.AdaptiveAvgPool2d((1, 1))\n",
        "        self.fc = nn.Flatten()\n",
        "        \n",
        "        \n",
        "        \n",
        "        self.decode_in_channels=1024\n",
        "        self.decode_padding=1\n",
        "        \n",
        "        self.trans_layer1 = self.make_trans_layer(\n",
        "            decode_block, decode_layers[0], out_channels=1024, shape=2, stride=2\n",
        "        )\n",
        "        self.trans_layer2 = self.make_trans_layer(\n",
        "            decode_block, decode_layers[1], out_channels=512, shape=4, stride=2\n",
        "        )\n",
        "            \n",
        "        self.trans_layer3 = self.make_trans_layer(\n",
        "            decode_block, decode_layers[2], out_channels=256, shape=8, stride=2        \n",
        "        )\n",
        "        self.trans_layer4 = self.make_trans_layer(\n",
        "            decode_block, decode_layers[3], out_channels=64, shape=16, stride=2\n",
        "        )\n",
        "\n",
        "        #self.trans_layer5 = self.make_trans_layer(\n",
        "        #    decode_block, decode_layers[4], out_channels=12, shape=32, stride=2\n",
        "        #)\n",
        "\n",
        "        self.trans_layer5 = nn.ConvTranspose2d(64, out_channels=16,kernel_size=3, stride=1, padding=1)\n",
        "        self.trans_layer6 = nn.ConvTranspose2d(16, out_channels=3,kernel_size=3, stride=2, padding=1)\n",
        "\n",
        "    def forward(self, x):\n",
        "        \n",
        "        x=self.layer(x)\n",
        "        x=self.layer1(x)\n",
        "        x=self.layer2(x)\n",
        "        x=self.layer3(x)\n",
        "        x=self.layer4(x)\n",
        "        x=self.avgpool(x)\n",
        "\n",
        "        latent = self.fc(x)\n",
        "\n",
        "\n",
        "        mean,std=torch.chunk(latent,2,dim=1)\n",
        "        sample = mean + torch.randn_like(std)*std\n",
        "        x=sample.view(sample.shape[0],1024,1,1)\n",
        "        \n",
        "        \n",
        "        \n",
        "        x=self.trans_layer1(x)\n",
        "        x=self.trans_layer2(x)\n",
        "        x=self.trans_layer3(x) \n",
        "        x=self.trans_layer4(x)\n",
        "        x=self.trans_layer5(x)\n",
        "        x=self.trans_layer6(x,[x.size(0),3,32,32])\n",
        "        \n",
        "        return x,mean, std\n",
        "    \n",
        "    def make_layer(self, encode_block, blocks, out_channels,stride=1):\n",
        "        \n",
        "        downsample = None\n",
        "        layers = []\n",
        "        \n",
        "        if stride != 1 or self.in_channels != out_channels:\n",
        "            downsample = nn.Sequential(\n",
        "                nn.Conv2d(\n",
        "                    self.in_channels,\n",
        "                    out_channels, \n",
        "                    kernel_size=1,\n",
        "                    stride=stride,\n",
        "                    bias=False,\n",
        "                    \n",
        "                ),nn.BatchNorm2d(out_channels),)\n",
        "            \n",
        "  \n",
        "        layers.append(encode_block(self.in_channels, out_channels, downsample, stride)\n",
        "                     )\n",
        "        \n",
        "        \n",
        "        self.in_channels = out_channels\n",
        "        \n",
        "        for i in range(1, blocks):\n",
        "            layers.append(encode_block(self.in_channels, out_channels))\n",
        "        return nn.Sequential(*layers)\n",
        "    \n",
        "    \n",
        "    \n",
        "    def make_trans_layer(self, decode_block, blocks, out_channels, shape=None, stride=1):\n",
        "        \n",
        "        upsample = None\n",
        "        layers = []\n",
        "        \n",
        "        if stride != 1 or self.in_channels != out_channels/4:\n",
        "            \n",
        "            upsample = nn.ConvTranspose2d(self.decode_in_channels, out_channels,kernel_size=3,stride=2,bias=False,padding=1)\n",
        "                                   \n",
        "                                   \n",
        "                                   \n",
        "        layers.append(decode_block(self.decode_in_channels, out_channels, stride, upsample, shape,padding=self.decode_padding)\n",
        "                     )\n",
        "        \n",
        "        \n",
        "        self.decode_in_channels= out_channels\n",
        "        \n",
        "        for i in range(1, blocks):\n",
        "            layers.append(decode_block(in_channels=self.decode_in_channels, out_channels=out_channels))\n",
        "    \n",
        "        return nn.Sequential(*layers)\n",
        "    \n",
        "    \n",
        "    "
      ],
      "id": "deluxe-basics",
      "execution_count": null,
      "outputs": []
    },
    {
      "cell_type": "code",
      "metadata": {
        "id": "TU0s-X3M-oI6"
      },
      "source": [
        "net=ResNet(encode_block,[2,2,2,2], decode_block, [2,2,2,2], 3, 10).to(device)"
      ],
      "id": "TU0s-X3M-oI6",
      "execution_count": null,
      "outputs": []
    },
    {
      "cell_type": "code",
      "metadata": {
        "colab": {
          "base_uri": "https://localhost:8080/"
        },
        "id": "qEyirAqTfXoL",
        "outputId": "779db918-9ad8-4b9e-a9a7-9a0d5c1b9ab2"
      },
      "source": [
        "w=torch.randn([2,3,32,32])\n",
        "net(w.to(device))[0].size()"
      ],
      "id": "qEyirAqTfXoL",
      "execution_count": null,
      "outputs": [
        {
          "output_type": "execute_result",
          "data": {
            "text/plain": [
              "torch.Size([2, 3, 32, 32])"
            ]
          },
          "metadata": {
            "tags": []
          },
          "execution_count": 12
        }
      ]
    },
    {
      "cell_type": "code",
      "metadata": {
        "id": "0UfnTsbanYqN"
      },
      "source": [
        "def train(X):\n",
        "    loss_list=[]\n",
        "    for epoch in range(0,10):\n",
        "        cost = 0\n",
        "#         batch = torch.from_numpy(np.arange(0,X.shape[0],dtype=\"int64\"))\n",
        "#If you would like to check with arange instead of randperm, then uncomment above and comment below lines respectively\n",
        "        batch=torch.randperm(X.shape[0]).to(device)\n",
        "        for i in range(0, X.shape[0],batch_size):\n",
        "            output,mean,std = net(X[batch[i:i+batch_size]].to(device))\n",
        "            optimiser.zero_grad()\n",
        "#             rev_fc=nn.ConvTranspose2d(3,1,2,1,0)\n",
        "#             X=rev_fc(X)\n",
        "            loss=variational_loss(output,X[batch[i:i+batch_size]].to(device),mean,std)\n",
        "            cost = cost+loss.item() \n",
        "            loss.backward()\n",
        "            optimiser.step()\n",
        "        loss_avg = cost / X.shape[0]\n",
        "        loss_list.append(loss_avg)\n",
        "        print(\"For iteration: \", epoch+1, \" the loss is :\", loss_avg)\n",
        "#         a=mean.detach().numpy()\n",
        "#         plt.scatter(a[:,0],a[:,1])\n",
        "#         break\n",
        "    return loss_list"
      ],
      "id": "0UfnTsbanYqN",
      "execution_count": null,
      "outputs": []
    },
    {
      "cell_type": "code",
      "metadata": {
        "id": "modern-footwear"
      },
      "source": [
        "optimiser = optim.Adam(net.parameters(), lr=0.0009)\n",
        "net=net.to(device)"
      ],
      "id": "modern-footwear",
      "execution_count": null,
      "outputs": []
    },
    {
      "cell_type": "code",
      "metadata": {
        "colab": {
          "base_uri": "https://localhost:8080/"
        },
        "id": "zwnFBc-jnYr4",
        "outputId": "ad8ad572-5aa2-4e86-ac30-5a7b0320996d"
      },
      "source": [
        "\n",
        "import matplotlib.pyplot as plt\n",
        "train_loss= train(train_images)\n"
      ],
      "id": "zwnFBc-jnYr4",
      "execution_count": null,
      "outputs": [
        {
          "output_type": "stream",
          "text": [
            "For iteration:  1  the loss is : 1.5824554467773437\n"
          ],
          "name": "stdout"
        }
      ]
    },
    {
      "cell_type": "code",
      "metadata": {
        "id": "ipefxwuaiMDu"
      },
      "source": [
        "torch.cuda.empty_cache()\n",
        "del train_loss"
      ],
      "id": "ipefxwuaiMDu",
      "execution_count": null,
      "outputs": []
    },
    {
      "cell_type": "code",
      "metadata": {
        "id": "gQOkH-k9wCT4",
        "colab": {
          "base_uri": "https://localhost:8080/",
          "height": 279
        },
        "outputId": "245e33ba-aab3-4683-eb2c-458cd33ca9ff"
      },
      "source": [
        "plt.plot(train_loss)\n",
        "plt.ylabel('cost')\n",
        "plt.xlabel('epoch')\n",
        "plt.show()"
      ],
      "id": "gQOkH-k9wCT4",
      "execution_count": null,
      "outputs": [
        {
          "output_type": "display_data",
          "data": {
            "image/png": "[encoded data removed]",
            "text/plain": [
              "<Figure size 432x288 with 1 Axes>"
            ]
          },
          "metadata": {
            "tags": [],
            "needs_background": "light"
          }
        }
      ]
    },
    {
      "cell_type": "code",
      "metadata": {
        "colab": {
          "base_uri": "https://localhost:8080/"
        },
        "id": "9f60mJ5CnYwQ",
        "outputId": "e6531b04-38e4-45c5-f139-07ade5a6a6e8"
      },
      "source": [
        "def test(X):\n",
        "    with torch.no_grad():\n",
        "        cost=0\n",
        "        batch=torch.randperm(X.shape[0])\n",
        "        for i in range(0, X.shape[0],batch_size):\n",
        "            output,mean,std=net(X[batch[i:i+batch_size]].to(device))\n",
        "            loss=variational_loss(output,X[batch[i:i+batch_size]].to(device),mean,std)\n",
        "            cost=cost+loss.item()\n",
        "        print(cost/X.shape[0])\n",
        "test(test_images)"
      ],
      "id": "9f60mJ5CnYwQ",
      "execution_count": null,
      "outputs": [
        {
          "output_type": "stream",
          "text": [
            "1.6313292358398437\n"
          ],
          "name": "stdout"
        }
      ]
    },
    {
      "cell_type": "code",
      "metadata": {
        "colab": {
          "base_uri": "https://localhost:8080/",
          "height": 438
        },
        "id": "mjc77q4gnZ5F",
        "outputId": "90453b74-2336-41c7-ed18-354b1b4021d6"
      },
      "source": [
        "print(\"MNIST Image\")\n",
        "fig, axes = plt.subplots(1,2)\n",
        "axes[0].imshow(test_img[3])\n",
        "axes[1].imshow(test_img[4])\n",
        "\n",
        "plt.show()\n",
        "\n",
        "print(\"Image through Variational AutoEncoder\")\n",
        "# print(test_images[1:45].shape)\n",
        "output=net(test_images[:5].to(device))\n",
        "print(output[0].size())\n",
        "output_img=((output[0].to(torch.device('cpu'))).permute(0,2,3,1).detach().numpy())\n",
        "\n",
        "fig, axes = plt.subplots(1,2)\n",
        "axes[0].imshow(output_img[3].astype('uint8'))\n",
        "axes[1].imshow(output_img[4].astype('uint8'))\n",
        "\n",
        "plt.show()"
      ],
      "id": "mjc77q4gnZ5F",
      "execution_count": null,
      "outputs": [
        {
          "output_type": "stream",
          "text": [
            "MNIST Image\n"
          ],
          "name": "stdout"
        },
        {
          "output_type": "display_data",
          "data": {
            "image/png": "[encoded data removed]",
            "text/plain": [
              "<Figure size 432x288 with 2 Axes>"
            ]
          },
          "metadata": {
            "tags": [],
            "needs_background": "light"
          }
        },
        {
          "output_type": "stream",
          "text": [
            "Image through Variational AutoEncoder\n",
            "torch.Size([5, 3, 32, 32])\n"
          ],
          "name": "stdout"
        },
        {
          "output_type": "display_data",
          "data": {
            "image/png": "[encoded data removed]",
            "text/plain": [
              "<Figure size 432x288 with 2 Axes>"
            ]
          },
          "metadata": {
            "tags": [],
            "needs_background": "light"
          }
        }
      ]
    },
    {
      "cell_type": "code",
      "metadata": {
        "id": "O_VSYgMKcXfG"
      },
      "source": [
        "a=output_img[0].detach().type(torch.IntTensor) "
      ],
      "id": "O_VSYgMKcXfG",
      "execution_count": null,
      "outputs": []
    },
    {
      "cell_type": "code",
      "metadata": {
        "id": "398Hfyc2ykNj",
        "colab": {
          "base_uri": "https://localhost:8080/",
          "height": 283
        },
        "outputId": "47c05466-b277-4ce9-e19b-3f284af9767f"
      },
      "source": [
        "plt.imshow(a)"
      ],
      "id": "398Hfyc2ykNj",
      "execution_count": null,
      "outputs": [
        {
          "output_type": "execute_result",
          "data": {
            "text/plain": [
              "<matplotlib.image.AxesImage at 0x7f1c5900b450>"
            ]
          },
          "metadata": {
            "tags": []
          },
          "execution_count": 38
        },
        {
          "output_type": "display_data",
          "data": {
            "image/png": "[encoded data removed]",
            "text/plain": [
              "<Figure size 432x288 with 1 Axes>"
            ]
          },
          "metadata": {
            "tags": [],
            "needs_background": "light"
          }
        }
      ]
    },
    {
      "cell_type": "code",
      "metadata": {
        "id": "Yd7anab1ykQq"
      },
      "source": [
        ""
      ],
      "id": "Yd7anab1ykQq",
      "execution_count": null,
      "outputs": []
    },
    {
      "cell_type": "code",
      "metadata": {
        "id": "EQApGlceykTi"
      },
      "source": [
        "w=torch.randn([1,3,15,15])"
      ],
      "id": "EQApGlceykTi",
      "execution_count": null,
      "outputs": []
    },
    {
      "cell_type": "code",
      "metadata": {
        "id": "vMwVgqXxykYL"
      },
      "source": [
        "trans1=nn.ConvTranspose2d(3,3, 3, 1, 1) "
      ],
      "id": "vMwVgqXxykYL",
      "execution_count": null,
      "outputs": []
    },
    {
      "cell_type": "code",
      "metadata": {
        "id": "UHU1_vyeykdA"
      },
      "source": [
        "w=trans1(w)"
      ],
      "id": "UHU1_vyeykdA",
      "execution_count": null,
      "outputs": []
    },
    {
      "cell_type": "code",
      "metadata": {
        "colab": {
          "base_uri": "https://localhost:8080/"
        },
        "id": "U0atcTJWykfs",
        "outputId": "21935c07-b415-4274-e46e-0d424d48a8c6"
      },
      "source": [
        "w.size()"
      ],
      "id": "U0atcTJWykfs",
      "execution_count": null,
      "outputs": [
        {
          "output_type": "execute_result",
          "data": {
            "text/plain": [
              "torch.Size([1, 3, 15, 15])"
            ]
          },
          "metadata": {
            "tags": []
          },
          "execution_count": 43
        }
      ]
    }
  ]
}